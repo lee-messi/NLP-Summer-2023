{
  "cells": [
    {
      "attachments": {},
      "cell_type": "markdown",
      "metadata": {
        "colab_type": "text",
        "id": "view-in-github"
      },
      "source": [
        "<a href=\"https://colab.research.google.com/github/lee-messi/machine-learning/blob/main/amazon-reviews.ipynb\" target=\"_parent\"><img src=\"https://colab.research.google.com/assets/colab-badge.svg\" alt=\"Open In Colab\"/></a>"
      ]
    },
    {
      "cell_type": "code",
      "execution_count": 4,
      "metadata": {
        "colab": {
          "base_uri": "https://localhost:8080/"
        },
        "id": "8jVEYZ_o1MDE",
        "outputId": "c84a5273-448b-48fe-fcbd-e109c0e31bd0"
      },
      "outputs": [
        {
          "name": "stdout",
          "output_type": "stream",
          "text": [
            "Requirement already satisfied: tensorflow_hub in /opt/anaconda3/envs/tensorflow/lib/python3.11/site-packages (0.13.0)\n",
            "Requirement already satisfied: numpy>=1.12.0 in /opt/anaconda3/envs/tensorflow/lib/python3.11/site-packages (from tensorflow_hub) (1.23.5)\n",
            "Requirement already satisfied: protobuf>=3.19.6 in /opt/anaconda3/envs/tensorflow/lib/python3.11/site-packages (from tensorflow_hub) (3.20.3)\n",
            "Requirement already satisfied: tensorflow_text in /opt/anaconda3/envs/tensorflow/lib/python3.11/site-packages (2.12.1)\n",
            "Requirement already satisfied: tensorflow-hub>=0.8.0 in /opt/anaconda3/envs/tensorflow/lib/python3.11/site-packages (from tensorflow_text) (0.13.0)\n",
            "Requirement already satisfied: tensorflow<2.13,>=2.12.0 in /opt/anaconda3/envs/tensorflow/lib/python3.11/site-packages (from tensorflow_text) (2.12.0)\n",
            "Requirement already satisfied: absl-py>=1.0.0 in /opt/anaconda3/envs/tensorflow/lib/python3.11/site-packages (from tensorflow<2.13,>=2.12.0->tensorflow_text) (1.4.0)\n",
            "Requirement already satisfied: astunparse>=1.6.0 in /opt/anaconda3/envs/tensorflow/lib/python3.11/site-packages (from tensorflow<2.13,>=2.12.0->tensorflow_text) (1.6.3)\n",
            "Requirement already satisfied: flatbuffers>=2.0 in /opt/anaconda3/envs/tensorflow/lib/python3.11/site-packages (from tensorflow<2.13,>=2.12.0->tensorflow_text) (2.0)\n",
            "Requirement already satisfied: gast<=0.4.0,>=0.2.1 in /opt/anaconda3/envs/tensorflow/lib/python3.11/site-packages (from tensorflow<2.13,>=2.12.0->tensorflow_text) (0.4.0)\n",
            "Requirement already satisfied: google-pasta>=0.1.1 in /opt/anaconda3/envs/tensorflow/lib/python3.11/site-packages (from tensorflow<2.13,>=2.12.0->tensorflow_text) (0.2.0)\n",
            "Requirement already satisfied: h5py>=2.9.0 in /opt/anaconda3/envs/tensorflow/lib/python3.11/site-packages (from tensorflow<2.13,>=2.12.0->tensorflow_text) (3.7.0)\n",
            "Requirement already satisfied: jax>=0.3.15 in /opt/anaconda3/envs/tensorflow/lib/python3.11/site-packages (from tensorflow<2.13,>=2.12.0->tensorflow_text) (0.4.12)\n",
            "Requirement already satisfied: libclang>=13.0.0 in /opt/anaconda3/envs/tensorflow/lib/python3.11/site-packages (from tensorflow<2.13,>=2.12.0->tensorflow_text) (16.0.0)\n",
            "Requirement already satisfied: numpy<1.24,>=1.22 in /opt/anaconda3/envs/tensorflow/lib/python3.11/site-packages (from tensorflow<2.13,>=2.12.0->tensorflow_text) (1.23.5)\n",
            "Requirement already satisfied: opt-einsum>=2.3.2 in /opt/anaconda3/envs/tensorflow/lib/python3.11/site-packages (from tensorflow<2.13,>=2.12.0->tensorflow_text) (3.3.0)\n",
            "Requirement already satisfied: packaging in /opt/anaconda3/envs/tensorflow/lib/python3.11/site-packages (from tensorflow<2.13,>=2.12.0->tensorflow_text) (23.0)\n",
            "Requirement already satisfied: protobuf!=4.21.0,!=4.21.1,!=4.21.2,!=4.21.3,!=4.21.4,!=4.21.5,<5.0.0dev,>=3.20.3 in /opt/anaconda3/envs/tensorflow/lib/python3.11/site-packages (from tensorflow<2.13,>=2.12.0->tensorflow_text) (3.20.3)\n",
            "Requirement already satisfied: setuptools in /opt/anaconda3/envs/tensorflow/lib/python3.11/site-packages (from tensorflow<2.13,>=2.12.0->tensorflow_text) (67.8.0)\n",
            "Requirement already satisfied: six>=1.12.0 in /opt/anaconda3/envs/tensorflow/lib/python3.11/site-packages (from tensorflow<2.13,>=2.12.0->tensorflow_text) (1.16.0)\n",
            "Requirement already satisfied: termcolor>=1.1.0 in /opt/anaconda3/envs/tensorflow/lib/python3.11/site-packages (from tensorflow<2.13,>=2.12.0->tensorflow_text) (2.1.0)\n",
            "Requirement already satisfied: typing-extensions>=3.6.6 in /opt/anaconda3/envs/tensorflow/lib/python3.11/site-packages (from tensorflow<2.13,>=2.12.0->tensorflow_text) (4.6.3)\n",
            "Requirement already satisfied: wrapt<1.15,>=1.11.0 in /opt/anaconda3/envs/tensorflow/lib/python3.11/site-packages (from tensorflow<2.13,>=2.12.0->tensorflow_text) (1.14.1)\n",
            "Requirement already satisfied: grpcio<2.0,>=1.24.3 in /opt/anaconda3/envs/tensorflow/lib/python3.11/site-packages (from tensorflow<2.13,>=2.12.0->tensorflow_text) (1.48.2)\n",
            "Requirement already satisfied: tensorboard<2.13,>=2.12 in /opt/anaconda3/envs/tensorflow/lib/python3.11/site-packages (from tensorflow<2.13,>=2.12.0->tensorflow_text) (2.12.1)\n",
            "Requirement already satisfied: tensorflow-estimator<2.13,>=2.12.0 in /opt/anaconda3/envs/tensorflow/lib/python3.11/site-packages (from tensorflow<2.13,>=2.12.0->tensorflow_text) (2.12.0)\n",
            "Requirement already satisfied: keras<2.13,>=2.12.0 in /opt/anaconda3/envs/tensorflow/lib/python3.11/site-packages (from tensorflow<2.13,>=2.12.0->tensorflow_text) (2.12.0)\n",
            "Requirement already satisfied: tensorflow-io-gcs-filesystem>=0.23.1 in /opt/anaconda3/envs/tensorflow/lib/python3.11/site-packages (from tensorflow<2.13,>=2.12.0->tensorflow_text) (0.32.0)\n",
            "Requirement already satisfied: wheel<1.0,>=0.23.0 in /opt/anaconda3/envs/tensorflow/lib/python3.11/site-packages (from astunparse>=1.6.0->tensorflow<2.13,>=2.12.0->tensorflow_text) (0.35.1)\n",
            "Requirement already satisfied: ml-dtypes>=0.1.0 in /opt/anaconda3/envs/tensorflow/lib/python3.11/site-packages (from jax>=0.3.15->tensorflow<2.13,>=2.12.0->tensorflow_text) (0.2.0)\n",
            "Requirement already satisfied: scipy>=1.7 in /opt/anaconda3/envs/tensorflow/lib/python3.11/site-packages (from jax>=0.3.15->tensorflow<2.13,>=2.12.0->tensorflow_text) (1.10.1)\n",
            "Requirement already satisfied: google-auth<3,>=1.6.3 in /opt/anaconda3/envs/tensorflow/lib/python3.11/site-packages (from tensorboard<2.13,>=2.12->tensorflow<2.13,>=2.12.0->tensorflow_text) (2.6.0)\n",
            "Requirement already satisfied: google-auth-oauthlib<1.1,>=0.5 in /opt/anaconda3/envs/tensorflow/lib/python3.11/site-packages (from tensorboard<2.13,>=2.12->tensorflow<2.13,>=2.12.0->tensorflow_text) (0.5.2)\n",
            "Requirement already satisfied: markdown>=2.6.8 in /opt/anaconda3/envs/tensorflow/lib/python3.11/site-packages (from tensorboard<2.13,>=2.12->tensorflow<2.13,>=2.12.0->tensorflow_text) (3.4.1)\n",
            "Requirement already satisfied: requests<3,>=2.21.0 in /opt/anaconda3/envs/tensorflow/lib/python3.11/site-packages (from tensorboard<2.13,>=2.12->tensorflow<2.13,>=2.12.0->tensorflow_text) (2.29.0)\n",
            "Requirement already satisfied: tensorboard-data-server<0.8.0,>=0.7.0 in /opt/anaconda3/envs/tensorflow/lib/python3.11/site-packages (from tensorboard<2.13,>=2.12->tensorflow<2.13,>=2.12.0->tensorflow_text) (0.7.0)\n",
            "Requirement already satisfied: tensorboard-plugin-wit>=1.6.0 in /opt/anaconda3/envs/tensorflow/lib/python3.11/site-packages (from tensorboard<2.13,>=2.12->tensorflow<2.13,>=2.12.0->tensorflow_text) (1.6.0)\n",
            "Requirement already satisfied: werkzeug>=1.0.1 in /opt/anaconda3/envs/tensorflow/lib/python3.11/site-packages (from tensorboard<2.13,>=2.12->tensorflow<2.13,>=2.12.0->tensorflow_text) (2.2.3)\n",
            "Requirement already satisfied: cachetools<6.0,>=2.0.0 in /opt/anaconda3/envs/tensorflow/lib/python3.11/site-packages (from google-auth<3,>=1.6.3->tensorboard<2.13,>=2.12->tensorflow<2.13,>=2.12.0->tensorflow_text) (4.2.2)\n",
            "Requirement already satisfied: pyasn1-modules>=0.2.1 in /opt/anaconda3/envs/tensorflow/lib/python3.11/site-packages (from google-auth<3,>=1.6.3->tensorboard<2.13,>=2.12->tensorflow<2.13,>=2.12.0->tensorflow_text) (0.2.8)\n",
            "Requirement already satisfied: rsa<5,>=3.1.4 in /opt/anaconda3/envs/tensorflow/lib/python3.11/site-packages (from google-auth<3,>=1.6.3->tensorboard<2.13,>=2.12->tensorflow<2.13,>=2.12.0->tensorflow_text) (4.7.2)\n",
            "Requirement already satisfied: requests-oauthlib>=0.7.0 in /opt/anaconda3/envs/tensorflow/lib/python3.11/site-packages (from google-auth-oauthlib<1.1,>=0.5->tensorboard<2.13,>=2.12->tensorflow<2.13,>=2.12.0->tensorflow_text) (1.3.0)\n",
            "Requirement already satisfied: charset-normalizer<4,>=2 in /opt/anaconda3/envs/tensorflow/lib/python3.11/site-packages (from requests<3,>=2.21.0->tensorboard<2.13,>=2.12->tensorflow<2.13,>=2.12.0->tensorflow_text) (2.0.4)\n",
            "Requirement already satisfied: idna<4,>=2.5 in /opt/anaconda3/envs/tensorflow/lib/python3.11/site-packages (from requests<3,>=2.21.0->tensorboard<2.13,>=2.12->tensorflow<2.13,>=2.12.0->tensorflow_text) (3.4)\n",
            "Requirement already satisfied: urllib3<1.27,>=1.21.1 in /opt/anaconda3/envs/tensorflow/lib/python3.11/site-packages (from requests<3,>=2.21.0->tensorboard<2.13,>=2.12->tensorflow<2.13,>=2.12.0->tensorflow_text) (1.26.16)\n",
            "Requirement already satisfied: certifi>=2017.4.17 in /opt/anaconda3/envs/tensorflow/lib/python3.11/site-packages (from requests<3,>=2.21.0->tensorboard<2.13,>=2.12->tensorflow<2.13,>=2.12.0->tensorflow_text) (2023.5.7)\n",
            "Requirement already satisfied: MarkupSafe>=2.1.1 in /opt/anaconda3/envs/tensorflow/lib/python3.11/site-packages (from werkzeug>=1.0.1->tensorboard<2.13,>=2.12->tensorflow<2.13,>=2.12.0->tensorflow_text) (2.1.1)\n",
            "Requirement already satisfied: pyasn1<0.5.0,>=0.4.6 in /opt/anaconda3/envs/tensorflow/lib/python3.11/site-packages (from pyasn1-modules>=0.2.1->google-auth<3,>=1.6.3->tensorboard<2.13,>=2.12->tensorflow<2.13,>=2.12.0->tensorflow_text) (0.4.8)\n",
            "Requirement already satisfied: oauthlib>=3.0.0 in /opt/anaconda3/envs/tensorflow/lib/python3.11/site-packages (from requests-oauthlib>=0.7.0->google-auth-oauthlib<1.1,>=0.5->tensorboard<2.13,>=2.12->tensorflow<2.13,>=2.12.0->tensorflow_text) (3.2.2)\n",
            "Collecting matplotlib\n",
            "  Downloading matplotlib-3.7.1-cp311-cp311-macosx_10_12_x86_64.whl (7.4 MB)\n",
            "\u001b[2K     \u001b[90m━━━━━━━━━━━━━━━━━━━━━━━━━━━━━━━━━━━━━━━━\u001b[0m \u001b[32m7.4/7.4 MB\u001b[0m \u001b[31m4.9 MB/s\u001b[0m eta \u001b[36m0:00:00\u001b[0m00:01\u001b[0m00:01\u001b[0m\n",
            "\u001b[?25hCollecting contourpy>=1.0.1 (from matplotlib)\n",
            "  Downloading contourpy-1.1.0-cp311-cp311-macosx_10_9_x86_64.whl (243 kB)\n",
            "\u001b[2K     \u001b[90m━━━━━━━━━━━━━━━━━━━━━━━━━━━━━━━━━━━━━━━\u001b[0m \u001b[32m243.5/243.5 kB\u001b[0m \u001b[31m1.9 MB/s\u001b[0m eta \u001b[36m0:00:00\u001b[0ma \u001b[36m0:00:01\u001b[0m\n",
            "\u001b[?25hCollecting cycler>=0.10 (from matplotlib)\n",
            "  Downloading cycler-0.11.0-py3-none-any.whl (6.4 kB)\n",
            "Collecting fonttools>=4.22.0 (from matplotlib)\n",
            "  Downloading fonttools-4.40.0-cp311-cp311-macosx_10_9_x86_64.whl (2.1 MB)\n",
            "\u001b[2K     \u001b[90m━━━━━━━━━━━━━━━━━━━━━━━━━━━━━━━━━━━━━━━━\u001b[0m \u001b[32m2.1/2.1 MB\u001b[0m \u001b[31m8.0 MB/s\u001b[0m eta \u001b[36m0:00:00\u001b[0m00:01\u001b[0m00:01\u001b[0mm\n",
            "\u001b[?25hCollecting kiwisolver>=1.0.1 (from matplotlib)\n",
            "  Downloading kiwisolver-1.4.4-cp311-cp311-macosx_10_9_x86_64.whl (65 kB)\n",
            "\u001b[2K     \u001b[90m━━━━━━━━━━━━━━━━━━━━━━━━━━━━━━━━━━━━━━━━\u001b[0m \u001b[32m65.5/65.5 kB\u001b[0m \u001b[31m2.2 MB/s\u001b[0m eta \u001b[36m0:00:00\u001b[0m\n",
            "\u001b[?25hRequirement already satisfied: numpy>=1.20 in /opt/anaconda3/envs/tensorflow/lib/python3.11/site-packages (from matplotlib) (1.23.5)\n",
            "Requirement already satisfied: packaging>=20.0 in /opt/anaconda3/envs/tensorflow/lib/python3.11/site-packages (from matplotlib) (23.0)\n",
            "Collecting pillow>=6.2.0 (from matplotlib)\n",
            "  Downloading Pillow-9.5.0-cp311-cp311-macosx_10_10_x86_64.whl (3.4 MB)\n",
            "\u001b[2K     \u001b[90m━━━━━━━━━━━━━━━━━━━━━━━━━━━━━━━━━━━━━━━━\u001b[0m \u001b[32m3.4/3.4 MB\u001b[0m \u001b[31m8.5 MB/s\u001b[0m eta \u001b[36m0:00:00\u001b[0m00:01\u001b[0m:00:01\u001b[0m\n",
            "\u001b[?25hCollecting pyparsing>=2.3.1 (from matplotlib)\n",
            "  Downloading pyparsing-3.1.0-py3-none-any.whl (102 kB)\n",
            "\u001b[2K     \u001b[90m━━━━━━━━━━━━━━━━━━━━━━━━━━━━━━━━━━━━━━━\u001b[0m \u001b[32m102.6/102.6 kB\u001b[0m \u001b[31m3.7 MB/s\u001b[0m eta \u001b[36m0:00:00\u001b[0m\n",
            "\u001b[?25hRequirement already satisfied: python-dateutil>=2.7 in /opt/anaconda3/envs/tensorflow/lib/python3.11/site-packages (from matplotlib) (2.8.2)\n",
            "Requirement already satisfied: six>=1.5 in /opt/anaconda3/envs/tensorflow/lib/python3.11/site-packages (from python-dateutil>=2.7->matplotlib) (1.16.0)\n",
            "Installing collected packages: pyparsing, pillow, kiwisolver, fonttools, cycler, contourpy, matplotlib\n",
            "Successfully installed contourpy-1.1.0 cycler-0.11.0 fonttools-4.40.0 kiwisolver-1.4.4 matplotlib-3.7.1 pillow-9.5.0 pyparsing-3.1.0\n"
          ]
        }
      ],
      "source": [
        "!pip install tensorflow_hub\n",
        "!pip install tensorflow_text\n",
        "!pip install matplotlib"
      ]
    },
    {
      "attachments": {},
      "cell_type": "markdown",
      "metadata": {
        "id": "PedHXrz18kZy"
      },
      "source": [
        "## Import all packages"
      ]
    },
    {
      "cell_type": "code",
      "execution_count": 5,
      "metadata": {
        "id": "XEZWIeQA0x1W"
      },
      "outputs": [],
      "source": [
        "import numpy as np\n",
        "import pandas as pd\n",
        "import tensorflow as tf\n",
        "import tensorflow_hub as hub\n",
        "import tensorflow_text as text\n",
        "import matplotlib.pyplot as plt"
      ]
    },
    {
      "attachments": {},
      "cell_type": "markdown",
      "metadata": {
        "id": "OM_2FFpp8pey"
      },
      "source": [
        "## Preprocess Amazon Review Data"
      ]
    },
    {
      "cell_type": "code",
      "execution_count": 6,
      "metadata": {
        "id": "SlV-7ESr1XUy"
      },
      "outputs": [],
      "source": [
        "# Depends on the repository to which 'Prime_Pantry_5.json' is saved.\n",
        "df = pd.read_json('~/Downloads/Prime_Pantry_5.json', lines = True)"
      ]
    },
    {
      "cell_type": "code",
      "execution_count": 7,
      "metadata": {
        "id": "fmgW44ke1o_f"
      },
      "outputs": [],
      "source": [
        "df = df[['reviewText', 'overall']]\n",
        "df = df.dropna()\n",
        "df.overall = df.overall - 1\n",
        "df.overall = df.overall.astype('category')"
      ]
    },
    {
      "cell_type": "code",
      "execution_count": 8,
      "metadata": {
        "colab": {
          "base_uri": "https://localhost:8080/",
          "height": 430
        },
        "id": "sS_ALKQR4ygr",
        "outputId": "c9ec15b9-24f7-498a-b073-91aca72a6ccf"
      },
      "outputs": [
        {
          "data": {
            "image/png": "[encoded data removed]",
            "text/plain": [
              "<Figure size 640x480 with 1 Axes>"
            ]
          },
          "metadata": {},
          "output_type": "display_data"
        }
      ],
      "source": [
        "plt.hist(df.overall)\n",
        "plt.show()"
      ]
    },
    {
      "cell_type": "code",
      "execution_count": 9,
      "metadata": {
        "id": "gABzVUeM2S0H"
      },
      "outputs": [],
      "source": [
        "df_balanced = df.groupby(df.overall).sample(1000)"
      ]
    },
    {
      "cell_type": "code",
      "execution_count": 10,
      "metadata": {
        "id": "2BkISL9n3Hc3"
      },
      "outputs": [],
      "source": [
        "train, val, test = np.split(df_balanced.sample(frac = 1), [int(0.8 * len(df_balanced)), int(0.9 * len(df_balanced))])"
      ]
    },
    {
      "cell_type": "code",
      "execution_count": 11,
      "metadata": {
        "colab": {
          "base_uri": "https://localhost:8080/",
          "height": 37
        },
        "id": "eQllXbhn3Npr",
        "outputId": "861f0cb5-f6f5-4497-dedf-eb38c93cc942"
      },
      "outputs": [
        {
          "data": {
            "text/plain": [
              "'(4000, 2)(500, 2)(500, 2)'"
            ]
          },
          "execution_count": 11,
          "metadata": {},
          "output_type": "execute_result"
        }
      ],
      "source": [
        "'{}{}{}'.format(train.shape, val.shape, test.shape)"
      ]
    },
    {
      "attachments": {},
      "cell_type": "markdown",
      "metadata": {
        "id": "x5d5ttTi9V79"
      },
      "source": [
        "## Create a tf.data Dataset from a Pandas Dataframe"
      ]
    },
    {
      "cell_type": "code",
      "execution_count": 12,
      "metadata": {
        "id": "ld83Oty02krS"
      },
      "outputs": [],
      "source": [
        "def df_to_dataset(dataframe, shuffle = True, batch_size = 128):\n",
        "  df = dataframe.copy()\n",
        "  label = df.overall\n",
        "  df = df.reviewText\n",
        "  ds = tf.data.Dataset.from_tensor_slices((df, label))\n",
        "  if shuffle == True:\n",
        "    ds = ds.shuffle(buffer_size = len(df))\n",
        "  ds = ds.batch(batch_size)\n",
        "  ds = ds.prefetch(tf.data.AUTOTUNE)\n",
        "  return(ds)"
      ]
    },
    {
      "cell_type": "code",
      "execution_count": 13,
      "metadata": {
        "id": "npY9C2cJ3GkN"
      },
      "outputs": [],
      "source": [
        "train_ds = df_to_dataset(train)\n",
        "val_ds = df_to_dataset(val)\n",
        "test_ds = df_to_dataset(test)"
      ]
    },
    {
      "attachments": {},
      "cell_type": "markdown",
      "metadata": {
        "id": "JbPNuIW69qlM"
      },
      "source": [
        "Define, Compile, and Fit Model"
      ]
    },
    {
      "cell_type": "code",
      "execution_count": 14,
      "metadata": {
        "id": "JuR3uC3Q3qqb"
      },
      "outputs": [],
      "source": [
        "embedding = \"https://tfhub.dev/google/nnlm-en-dim50/2\"\n",
        "hub_layer = hub.KerasLayer(embedding, dtype = tf.string, trainable = True)"
      ]
    },
    {
      "cell_type": "code",
      "execution_count": 15,
      "metadata": {
        "id": "TCMZbmjK3cIL"
      },
      "outputs": [],
      "source": [
        "model = tf.keras.models.Sequential()\n",
        "model.add(hub_layer)\n",
        "model.add(tf.keras.layers.Dense(16, activation = 'relu'))\n",
        "model.add(tf.keras.layers.Dropout(0.2))\n",
        "model.add(tf.keras.layers.Dense(5, activation = 'softmax'))"
      ]
    },
    {
      "cell_type": "code",
      "execution_count": 16,
      "metadata": {
        "id": "cL64xvsa4EtR"
      },
      "outputs": [],
      "source": [
        "model.compile(optimizer = tf.keras.optimizers.Adam(learning_rate = 0.005),\n",
        "              loss = tf.keras.losses.SparseCategoricalCrossentropy(from_logits = False),\n",
        "              metrics = ['accuracy'])"
      ]
    },
    {
      "cell_type": "code",
      "execution_count": 17,
      "metadata": {
        "colab": {
          "base_uri": "https://localhost:8080/"
        },
        "id": "_hpqPEQl4W8l",
        "outputId": "7bdc58de-a11b-40fd-9849-b9b3928bc773"
      },
      "outputs": [
        {
          "name": "stderr",
          "output_type": "stream",
          "text": [
            "2023-06-23 00:30:44.757312: I tensorflow/core/common_runtime/executor.cc:1197] [/device:CPU:0] (DEBUG INFO) Executor start aborting (this does not indicate an error and you can ignore this message): INVALID_ARGUMENT: You must feed a value for placeholder tensor 'Placeholder/_1' with dtype int64 and shape [4000]\n",
            "\t [[{{node Placeholder/_1}}]]\n",
            "2023-06-23 00:30:44.758869: I tensorflow/core/common_runtime/executor.cc:1197] [/device:CPU:0] (DEBUG INFO) Executor start aborting (this does not indicate an error and you can ignore this message): INVALID_ARGUMENT: You must feed a value for placeholder tensor 'Placeholder/_1' with dtype int64 and shape [4000]\n",
            "\t [[{{node Placeholder/_1}}]]\n",
            "2023-06-23 00:30:45.535477: I tensorflow/core/common_runtime/executor.cc:1197] [/device:CPU:0] (DEBUG INFO) Executor start aborting (this does not indicate an error and you can ignore this message): INVALID_ARGUMENT: You must feed a value for placeholder tensor 'sentences' with dtype string and shape [?]\n",
            "\t [[{{node sentences}}]]\n",
            "2023-06-23 00:30:45.546946: I tensorflow/core/common_runtime/executor.cc:1197] [/device:CPU:0] (DEBUG INFO) Executor start aborting (this does not indicate an error and you can ignore this message): INVALID_ARGUMENT: You must feed a value for placeholder tensor 'Placeholder' with dtype string and shape [?]\n",
            "\t [[{{node Placeholder}}]]\n"
          ]
        },
        {
          "name": "stdout",
          "output_type": "stream",
          "text": [
            "32/32 [==============================] - 2s 5ms/step - loss: 1.6319 - accuracy: 0.2218\n"
          ]
        },
        {
          "data": {
            "text/plain": [
              "[1.6319427490234375, 0.22175000607967377]"
            ]
          },
          "execution_count": 17,
          "metadata": {},
          "output_type": "execute_result"
        }
      ],
      "source": [
        "model.evaluate(train_ds)"
      ]
    },
    {
      "cell_type": "code",
      "execution_count": 18,
      "metadata": {
        "colab": {
          "base_uri": "https://localhost:8080/"
        },
        "id": "YsmiygBk4931",
        "outputId": "80ea25a8-8f40-4012-8472-7c13d010c71b"
      },
      "outputs": [
        {
          "name": "stdout",
          "output_type": "stream",
          "text": [
            "Epoch 1/7\n"
          ]
        },
        {
          "name": "stderr",
          "output_type": "stream",
          "text": [
            "2023-06-23 00:30:52.611001: I tensorflow/core/common_runtime/executor.cc:1197] [/device:CPU:0] (DEBUG INFO) Executor start aborting (this does not indicate an error and you can ignore this message): INVALID_ARGUMENT: You must feed a value for placeholder tensor 'gradients/StatefulPartitionedCall_grad/StatefulPartitionedCall' with dtype float and shape [?,50]\n",
            "\t [[{{node gradients/StatefulPartitionedCall_grad/StatefulPartitionedCall}}]]\n",
            "2023-06-23 00:30:52.611195: I tensorflow/core/common_runtime/executor.cc:1197] [/device:CPU:0] (DEBUG INFO) Executor start aborting (this does not indicate an error and you can ignore this message): INVALID_ARGUMENT: You must feed a value for placeholder tensor 'gradients/StatefulPartitionedCall_grad/StatefulPartitionedCall_3' with dtype int64 and shape [?]\n",
            "\t [[{{node gradients/StatefulPartitionedCall_grad/StatefulPartitionedCall_3}}]]\n"
          ]
        },
        {
          "name": "stdout",
          "output_type": "stream",
          "text": [
            "32/32 [==============================] - ETA: 0s - loss: 1.5558 - accuracy: 0.2885"
          ]
        },
        {
          "name": "stderr",
          "output_type": "stream",
          "text": [
            "2023-06-23 00:31:26.951446: I tensorflow/core/common_runtime/executor.cc:1197] [/device:CPU:0] (DEBUG INFO) Executor start aborting (this does not indicate an error and you can ignore this message): INVALID_ARGUMENT: You must feed a value for placeholder tensor 'Placeholder/_1' with dtype int64 and shape [500]\n",
            "\t [[{{node Placeholder/_1}}]]\n",
            "2023-06-23 00:31:26.952034: I tensorflow/core/common_runtime/executor.cc:1197] [/device:CPU:0] (DEBUG INFO) Executor start aborting (this does not indicate an error and you can ignore this message): INVALID_ARGUMENT: You must feed a value for placeholder tensor 'Placeholder/_1' with dtype int64 and shape [500]\n",
            "\t [[{{node Placeholder/_1}}]]\n"
          ]
        },
        {
          "name": "stdout",
          "output_type": "stream",
          "text": [
            "32/32 [==============================] - 36s 1s/step - loss: 1.5558 - accuracy: 0.2885 - val_loss: 1.4657 - val_accuracy: 0.3560\n",
            "Epoch 2/7\n",
            "32/32 [==============================] - 38s 1s/step - loss: 1.2171 - accuracy: 0.5035 - val_loss: 1.3741 - val_accuracy: 0.4240\n",
            "Epoch 3/7\n",
            "32/32 [==============================] - 39s 1s/step - loss: 0.8744 - accuracy: 0.6668 - val_loss: 1.4404 - val_accuracy: 0.4320\n",
            "Epoch 4/7\n",
            "32/32 [==============================] - 39s 1s/step - loss: 0.5889 - accuracy: 0.7970 - val_loss: 1.6010 - val_accuracy: 0.4340\n",
            "Epoch 5/7\n",
            "32/32 [==============================] - 40s 1s/step - loss: 0.4215 - accuracy: 0.8572 - val_loss: 1.8180 - val_accuracy: 0.4260\n",
            "Epoch 6/7\n",
            "32/32 [==============================] - 39s 1s/step - loss: 0.3110 - accuracy: 0.8938 - val_loss: 2.0444 - val_accuracy: 0.4160\n",
            "Epoch 7/7\n",
            "32/32 [==============================] - 39s 1s/step - loss: 0.2508 - accuracy: 0.9175 - val_loss: 2.2776 - val_accuracy: 0.4160\n"
          ]
        }
      ],
      "source": [
        "history = model.fit(train_ds,\n",
        "                    epochs = 7,\n",
        "                    validation_data = val_ds)"
      ]
    },
    {
      "cell_type": "code",
      "execution_count": 19,
      "metadata": {
        "colab": {
          "base_uri": "https://localhost:8080/"
        },
        "id": "ngfTOUGt8K0r",
        "outputId": "735eb0a4-cc11-469b-f9f5-5331cea1c70a"
      },
      "outputs": [
        {
          "name": "stderr",
          "output_type": "stream",
          "text": [
            "2023-06-23 00:38:29.184207: I tensorflow/core/common_runtime/executor.cc:1197] [/device:CPU:0] (DEBUG INFO) Executor start aborting (this does not indicate an error and you can ignore this message): INVALID_ARGUMENT: You must feed a value for placeholder tensor 'Placeholder/_0' with dtype string and shape [500]\n",
            "\t [[{{node Placeholder/_0}}]]\n",
            "2023-06-23 00:38:29.185374: I tensorflow/core/common_runtime/executor.cc:1197] [/device:CPU:0] (DEBUG INFO) Executor start aborting (this does not indicate an error and you can ignore this message): INVALID_ARGUMENT: You must feed a value for placeholder tensor 'Placeholder/_1' with dtype int64 and shape [500]\n",
            "\t [[{{node Placeholder/_1}}]]\n"
          ]
        },
        {
          "name": "stdout",
          "output_type": "stream",
          "text": [
            "4/4 [==============================] - 1s 269ms/step - loss: 2.2144 - accuracy: 0.4020\n"
          ]
        },
        {
          "data": {
            "text/plain": [
              "[2.214444398880005, 0.4020000100135803]"
            ]
          },
          "execution_count": 19,
          "metadata": {},
          "output_type": "execute_result"
        }
      ],
      "source": [
        "model.evaluate(test_ds)"
      ]
    },
    {
      "attachments": {},
      "cell_type": "markdown",
      "metadata": {},
      "source": [
        "Validation accuracy stops increasing at epoch 4, and test accuracy is not very high. "
      ]
    },
    {
      "attachments": {},
      "cell_type": "markdown",
      "metadata": {
        "id": "YrN8sMKC9z5I"
      },
      "source": [
        "## Plot Train and Validation Accuracy of the Model"
      ]
    },
    {
      "cell_type": "code",
      "execution_count": 20,
      "metadata": {
        "colab": {
          "base_uri": "https://localhost:8080/",
          "height": 449
        },
        "id": "TXtAio6Z8OMW",
        "outputId": "ddf6c6ce-e742-4c7b-8acb-c1dffe7abd25"
      },
      "outputs": [
        {
          "data": {
            "image/png": "[encoded data removed]",
            "text/plain": [
              "<Figure size 640x480 with 1 Axes>"
            ]
          },
          "metadata": {},
          "output_type": "display_data"
        }
      ],
      "source": [
        " plt.plot(history.history['accuracy'])\n",
        " plt.plot(history.history['val_accuracy'])\n",
        " plt.xlabel('Epochs')\n",
        " plt.ylabel('Accuracy(%)')\n",
        " plt.legend(['train', 'validation'])\n",
        " plt.show()"
      ]
    },
    {
      "cell_type": "code",
      "execution_count": 21,
      "metadata": {
        "colab": {
          "base_uri": "https://localhost:8080/",
          "height": 449
        },
        "id": "nYJgk8mf_217",
        "outputId": "c44cd462-c944-450d-dd9a-ee2e7d2b579d"
      },
      "outputs": [
        {
          "data": {
            "image/png": "[encoded data removed]",
            "text/plain": [
              "<Figure size 640x480 with 1 Axes>"
            ]
          },
          "metadata": {},
          "output_type": "display_data"
        }
      ],
      "source": [
        " plt.plot(history.history['loss'])\n",
        " plt.plot(history.history['val_loss'])\n",
        " plt.xlabel('Epochs')\n",
        " plt.ylabel('Loss')\n",
        " plt.legend(['train', 'validation'])\n",
        " plt.show()"
      ]
    },
    {
      "attachments": {},
      "cell_type": "markdown",
      "metadata": {},
      "source": [
        "Validation loss decreases at epoch 1 but then continues to increase in subsequent epochs whereas training loss continues to decrease. This is sign of early overfitting. "
      ]
    },
    {
      "cell_type": "code",
      "execution_count": 29,
      "metadata": {},
      "outputs": [],
      "source": [
        "model = tf.keras.models.Sequential()\n",
        "model.add(hub_layer)\n",
        "model.add(tf.keras.layers.Dense(5, activation = 'softmax'))"
      ]
    },
    {
      "cell_type": "code",
      "execution_count": 30,
      "metadata": {},
      "outputs": [],
      "source": [
        "model.compile(optimizer = tf.keras.optimizers.Adam(learning_rate = 0.005),\n",
        "              loss = tf.keras.losses.SparseCategoricalCrossentropy(from_logits = False),\n",
        "              metrics = ['accuracy'])"
      ]
    },
    {
      "cell_type": "code",
      "execution_count": 31,
      "metadata": {},
      "outputs": [
        {
          "name": "stderr",
          "output_type": "stream",
          "text": [
            "2023-06-23 01:16:03.195956: I tensorflow/core/common_runtime/executor.cc:1197] [/device:CPU:0] (DEBUG INFO) Executor start aborting (this does not indicate an error and you can ignore this message): INVALID_ARGUMENT: You must feed a value for placeholder tensor 'Placeholder' with dtype string and shape [?]\n",
            "\t [[{{node Placeholder}}]]\n"
          ]
        },
        {
          "name": "stdout",
          "output_type": "stream",
          "text": [
            "32/32 [==============================] - 8s 225ms/step - loss: 1.6456 - accuracy: 0.2340\n"
          ]
        },
        {
          "data": {
            "text/plain": [
              "[1.6455684900283813, 0.23399999737739563]"
            ]
          },
          "execution_count": 31,
          "metadata": {},
          "output_type": "execute_result"
        }
      ],
      "source": [
        "model.evaluate(train_ds)"
      ]
    },
    {
      "cell_type": "code",
      "execution_count": 32,
      "metadata": {},
      "outputs": [
        {
          "name": "stdout",
          "output_type": "stream",
          "text": [
            "Epoch 1/7\n",
            "32/32 [==============================] - 43s 1s/step - loss: 1.3071 - accuracy: 0.5745 - val_loss: 1.3777 - val_accuracy: 0.4240\n",
            "Epoch 2/7\n",
            "32/32 [==============================] - 40s 1s/step - loss: 0.7284 - accuracy: 0.8767 - val_loss: 1.3675 - val_accuracy: 0.4520\n",
            "Epoch 3/7\n",
            "32/32 [==============================] - 38s 1s/step - loss: 0.4536 - accuracy: 0.9057 - val_loss: 1.4659 - val_accuracy: 0.4460\n",
            "Epoch 4/7\n",
            "32/32 [==============================] - 37s 1s/step - loss: 0.3196 - accuracy: 0.9243 - val_loss: 1.5846 - val_accuracy: 0.4260\n",
            "Epoch 5/7\n",
            "32/32 [==============================] - 37s 1s/step - loss: 0.2485 - accuracy: 0.9350 - val_loss: 1.7043 - val_accuracy: 0.4220\n",
            "Epoch 6/7\n",
            "32/32 [==============================] - 38s 1s/step - loss: 0.2031 - accuracy: 0.9430 - val_loss: 1.8243 - val_accuracy: 0.4040\n",
            "Epoch 7/7\n",
            "32/32 [==============================] - 36s 1s/step - loss: 0.1744 - accuracy: 0.9475 - val_loss: 1.9148 - val_accuracy: 0.4000\n"
          ]
        }
      ],
      "source": [
        "simple = model.fit(train_ds,\n",
        "                   epochs = 7,\n",
        "                   validation_data = val_ds)"
      ]
    },
    {
      "cell_type": "code",
      "execution_count": 35,
      "metadata": {},
      "outputs": [
        {
          "name": "stdout",
          "output_type": "stream",
          "text": [
            "4/4 [==============================] - 1s 181ms/step - loss: 1.8813 - accuracy: 0.3860\n"
          ]
        },
        {
          "data": {
            "text/plain": [
              "[1.8813085556030273, 0.38600000739097595]"
            ]
          },
          "execution_count": 35,
          "metadata": {},
          "output_type": "execute_result"
        }
      ],
      "source": [
        "model.evaluate(test_ds)"
      ]
    }
  ],
  "metadata": {
    "colab": {
      "authorship_tag": "ABX9TyP7d7FfM9TQX2Yc4LZ1Qgrx",
      "include_colab_link": true,
      "mount_file_id": "14Mvdpdcfq__N6S73uZl8_SehhO9gTvJf",
      "provenance": []
    },
    "kernelspec": {
      "display_name": "Python 3",
      "name": "python3"
    },
    "language_info": {
      "codemirror_mode": {
        "name": "ipython",
        "version": 3
      },
      "file_extension": ".py",
      "mimetype": "text/x-python",
      "name": "python",
      "nbconvert_exporter": "python",
      "pygments_lexer": "ipython3",
      "version": "3.11.3"
    }
  },
  "nbformat": 4,
  "nbformat_minor": 0
}
