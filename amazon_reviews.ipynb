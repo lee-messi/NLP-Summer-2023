{
  "nbformat": 4,
  "nbformat_minor": 0,
  "metadata": {
    "colab": {
      "provenance": [],
      "mount_file_id": "1kbR5F4BrAtXcBr6Rly5rsHP1QloM8Mb8",
      "authorship_tag": "ABX9TyNphj014CGx1+4tBwiesx1q",
      "include_colab_link": true
    },
    "kernelspec": {
      "name": "python3",
      "display_name": "Python 3"
    },
    "language_info": {
      "name": "python"
    }
  },
  "cells": [
    {
      "cell_type": "markdown",
      "metadata": {
        "id": "view-in-github",
        "colab_type": "text"
      },
      "source": [
        "<a href=\"https://colab.research.google.com/github/lee-messi/machine-learning/blob/main/amazon_reviews.ipynb\" target=\"_parent\"><img src=\"https://colab.research.google.com/assets/colab-badge.svg\" alt=\"Open In Colab\"/></a>"
      ]
    },
    {
      "cell_type": "code",
      "source": [
        "!pip install tensorflow_text --quiet\n",
        "!pip install tensorflow_hub --quiet"
      ],
      "metadata": {
        "colab": {
          "base_uri": "https://localhost:8080/"
        },
        "id": "WuPb3AR3nXZE",
        "outputId": "33334694-587e-46cf-a013-9a8c49a79fb3"
      },
      "execution_count": 1,
      "outputs": [
        {
          "output_type": "stream",
          "name": "stdout",
          "text": [
            "\u001b[?25l     \u001b[90m━━━━━━━━━━━━━━━━━━━━━━━━━━━━━━━━━━━━━━━━\u001b[0m \u001b[32m0.0/6.0 MB\u001b[0m \u001b[31m?\u001b[0m eta \u001b[36m-:--:--\u001b[0m\r\u001b[2K     \u001b[91m━━━━━━━━━━━━━━━━━━━━━━━\u001b[0m\u001b[91m╸\u001b[0m\u001b[90m━━━━━━━━━━━━━━━━\u001b[0m \u001b[32m3.6/6.0 MB\u001b[0m \u001b[31m108.1 MB/s\u001b[0m eta \u001b[36m0:00:01\u001b[0m\r\u001b[2K     \u001b[91m━━━━━━━━━━━━━━━━━━━━━━━━━━━━━━━━━━━━━━━\u001b[0m\u001b[91m╸\u001b[0m \u001b[32m6.0/6.0 MB\u001b[0m \u001b[31m118.2 MB/s\u001b[0m eta \u001b[36m0:00:01\u001b[0m\r\u001b[2K     \u001b[90m━━━━━━━━━━━━━━━━━━━━━━━━━━━━━━━━━━━━━━━━\u001b[0m \u001b[32m6.0/6.0 MB\u001b[0m \u001b[31m72.3 MB/s\u001b[0m eta \u001b[36m0:00:00\u001b[0m\n",
            "\u001b[?25h"
          ]
        }
      ]
    },
    {
      "cell_type": "markdown",
      "source": [
        "## Import Packages and Dataset"
      ],
      "metadata": {
        "id": "fbyQKvUfov9a"
      }
    },
    {
      "cell_type": "code",
      "source": [
        "import numpy as np\n",
        "import pandas as pd\n",
        "import tensorflow as tf\n",
        "import tensorflow_hub as hub\n",
        "import tensorflow_text as text\n",
        "import matplotlib.pyplot as plt\n",
        "pd.options.mode.chained_assignment = None"
      ],
      "metadata": {
        "id": "XuWLtS21lDoI"
      },
      "execution_count": 7,
      "outputs": []
    },
    {
      "cell_type": "markdown",
      "source": [
        "Here, we are going to work on a binary classifier where we try and predict the star reviews of Amazon Beauty products based on their overall ratings. The dataset is part of the 2018 Amazon review data and can be found [here](https://cseweb.ucsd.edu/~jmcauley/datasets/amazon_v2/)."
      ],
      "metadata": {
        "id": "yQK3izWLo0qA"
      }
    },
    {
      "cell_type": "code",
      "source": [
        "reviews = pd.read_json('drive/MyDrive/Colab Notebooks/All_Beauty.json', lines = True)\n",
        "print(reviews.columns)"
      ],
      "metadata": {
        "id": "f-G9kNKuzSwv",
        "colab": {
          "base_uri": "https://localhost:8080/"
        },
        "outputId": "a32b4fad-5431-4009-d5b2-4bea2dc958d8"
      },
      "execution_count": 5,
      "outputs": [
        {
          "output_type": "stream",
          "name": "stdout",
          "text": [
            "Index(['overall', 'verified', 'reviewTime', 'reviewerID', 'asin',\n",
            "       'reviewerName', 'reviewText', 'summary', 'unixReviewTime', 'vote',\n",
            "       'style', 'image'],\n",
            "      dtype='object')\n"
          ]
        }
      ]
    },
    {
      "cell_type": "markdown",
      "source": [
        "## Preprocessing"
      ],
      "metadata": {
        "id": "a8lS9XQprEEI"
      }
    },
    {
      "cell_type": "markdown",
      "source": [
        "We are going to perform the following preprocessing steps on the Amazon review data:\n",
        "+ We are going to retain two columns - the review text (**reviewText**) and the overall rating (**overall**).\n",
        "+ As this is a binary classifier problem, we are going to map the overall rating column as a binary one (1 if the rating is greater than or equal to 4 and 0 otherwise).\n",
        "+ We are going to remove any observations that have N/A values."
      ],
      "metadata": {
        "id": "Q5_MJR8BpfJO"
      }
    },
    {
      "cell_type": "code",
      "source": [
        "reviews = reviews[['reviewText', 'overall']]\n",
        "reviews['labels'] = (reviews.overall >= 4).astype(int)\n",
        "reviews = reviews.dropna()"
      ],
      "metadata": {
        "id": "1EL4HAcYzt4K"
      },
      "execution_count": 8,
      "outputs": []
    },
    {
      "cell_type": "markdown",
      "source": [
        "To prevent the model from being biased, we are going to create a new dataset that is balanced with respect to the labels. First, let's inspect how unbalanced our labels are:"
      ],
      "metadata": {
        "id": "8U2aXOiPrHtj"
      }
    },
    {
      "cell_type": "code",
      "source": [
        "reviews_balanced = reviews.groupby('overall').sample(500)\n",
        "reviews_balanced.value_counts('overall')"
      ],
      "metadata": {
        "colab": {
          "base_uri": "https://localhost:8080/"
        },
        "id": "XLxEMLz10Gso",
        "outputId": "cac1ed66-dd56-4e20-dc7f-e8008c6ceebb"
      },
      "execution_count": 6,
      "outputs": [
        {
          "output_type": "execute_result",
          "data": {
            "text/plain": [
              "overall\n",
              "1    500\n",
              "2    500\n",
              "3    500\n",
              "4    500\n",
              "5    500\n",
              "dtype: int64"
            ]
          },
          "metadata": {},
          "execution_count": 6
        }
      ]
    },
    {
      "cell_type": "code",
      "source": [
        "train, val, test = np.split(reviews_balanced.sample(frac = 1),\n",
        "                            [int(0.8 * len(reviews_balanced)), int(0.9 * len(reviews_balanced))])"
      ],
      "metadata": {
        "id": "kGTa8tNX5kXO"
      },
      "execution_count": 42,
      "outputs": []
    },
    {
      "cell_type": "code",
      "source": [
        "def df_to_dataset(dataframe, shuffle = True, batch_size = 32):\n",
        "  df = dataframe.copy()\n",
        "  label = df.labels\n",
        "  df = df.reviewText\n",
        "  ds = tf.data.Dataset.from_tensor_slices((df, label))\n",
        "  if shuffle == True:\n",
        "    ds = ds.shuffle(buffer_size = len(df))\n",
        "  ds = ds.batch(batch_size)\n",
        "  ds = ds.prefetch(tf.data.AUTOTUNE)\n",
        "  return(ds)"
      ],
      "metadata": {
        "id": "4QPgFiaa4TF5"
      },
      "execution_count": 46,
      "outputs": []
    },
    {
      "cell_type": "code",
      "source": [
        "train_ds = df_to_dataset(train)\n",
        "val_ds = df_to_dataset(val)\n",
        "test_ds = df_to_dataset(test)"
      ],
      "metadata": {
        "id": "9H8Oyz1n5jA9"
      },
      "execution_count": 47,
      "outputs": []
    },
    {
      "cell_type": "code",
      "source": [
        "bert_preprocess = hub.KerasLayer(\"https://tfhub.dev/tensorflow/bert_en_uncased_preprocess/3\")\n",
        "bert_encoder = hub.KerasLayer(\"https://tfhub.dev/tensorflow/bert_en_uncased_L-12_H-768_A-12/4\")"
      ],
      "metadata": {
        "id": "MVjQHW5nM5eQ"
      },
      "execution_count": 32,
      "outputs": []
    },
    {
      "cell_type": "code",
      "source": [
        "def get_sentence_embeding(sentences):\n",
        "    preprocessed_text = bert_preprocess(sentences)\n",
        "    return bert_encoder(preprocessed_text)['pooled_output']\n",
        "\n",
        "get_sentence_embeding([\n",
        "    \"500$ discount. hurry up\",\n",
        "    \"Bhavin, are you up for a volleybal game tomorrow?\"]\n",
        ")"
      ],
      "metadata": {
        "id": "XLE9F0YuNd79",
        "colab": {
          "base_uri": "https://localhost:8080/"
        },
        "outputId": "fd2617dd-a7a7-4b88-af6c-738f79b5f828"
      },
      "execution_count": 33,
      "outputs": [
        {
          "output_type": "execute_result",
          "data": {
            "text/plain": [
              "<tf.Tensor: shape=(2, 768), dtype=float32, numpy=\n",
              "array([[-0.8435168 , -0.5132724 , -0.88845694, ..., -0.74748826,\n",
              "        -0.7531471 ,  0.91964483],\n",
              "       [-0.8720836 , -0.5054398 , -0.9444669 , ..., -0.85847515,\n",
              "        -0.71745366,  0.8808298 ]], dtype=float32)>"
            ]
          },
          "metadata": {},
          "execution_count": 33
        }
      ]
    },
    {
      "cell_type": "markdown",
      "source": [
        "## Define First Model"
      ],
      "metadata": {
        "id": "8XXWuL31sW2u"
      }
    },
    {
      "cell_type": "code",
      "source": [
        "embedding = \"https://tfhub.dev/google/nnlm-en-dim50/2\"\n",
        "hub_layer = hub.KerasLayer(embedding, dtype = tf.string, trainable = True)"
      ],
      "metadata": {
        "id": "TPU4pi56NHJf"
      },
      "execution_count": 48,
      "outputs": []
    },
    {
      "cell_type": "code",
      "source": [
        "model = tf.keras.Sequential()\n",
        "model.add(hub_layer)\n",
        "model.add(tf.keras.layers.Dropout(0.2))\n",
        "model.add(tf.keras.layers.Dense(1, activation = 'sigmoid'))"
      ],
      "metadata": {
        "id": "GtfLWA9bM-iN"
      },
      "execution_count": 49,
      "outputs": []
    },
    {
      "cell_type": "code",
      "source": [
        "model.compile(optimizer = tf.keras.optimizers.Adam(),\n",
        "              loss = tf.keras.losses.BinaryCrossentropy(),\n",
        "              metrics = ['accuracy'])"
      ],
      "metadata": {
        "id": "FCJRuTjfOGtN"
      },
      "execution_count": 50,
      "outputs": []
    },
    {
      "cell_type": "code",
      "source": [
        "history = model.fit(train_ds,\n",
        "                    validation_data = val_ds,\n",
        "                    epochs = 10)"
      ],
      "metadata": {
        "colab": {
          "base_uri": "https://localhost:8080/"
        },
        "id": "R7hksPfYN-cO",
        "outputId": "1d4f8c59-6462-4099-b483-0105bd9ae4c7"
      },
      "execution_count": 51,
      "outputs": [
        {
          "output_type": "stream",
          "name": "stdout",
          "text": [
            "Epoch 1/10\n",
            "63/63 [==============================] - 84s 1s/step - loss: 0.6622 - accuracy: 0.6130 - val_loss: 0.6388 - val_accuracy: 0.6560\n",
            "Epoch 2/10\n",
            "63/63 [==============================] - 85s 1s/step - loss: 0.5977 - accuracy: 0.7055 - val_loss: 0.6076 - val_accuracy: 0.6840\n",
            "Epoch 3/10\n",
            "63/63 [==============================] - 81s 1s/step - loss: 0.5289 - accuracy: 0.8085 - val_loss: 0.5750 - val_accuracy: 0.7160\n",
            "Epoch 4/10\n",
            "63/63 [==============================] - 95s 1s/step - loss: 0.4569 - accuracy: 0.8490 - val_loss: 0.5466 - val_accuracy: 0.7240\n",
            "Epoch 5/10\n",
            "63/63 [==============================] - 83s 1s/step - loss: 0.3825 - accuracy: 0.8975 - val_loss: 0.5255 - val_accuracy: 0.7360\n",
            "Epoch 6/10\n",
            "63/63 [==============================] - 83s 1s/step - loss: 0.3170 - accuracy: 0.9235 - val_loss: 0.5179 - val_accuracy: 0.7520\n",
            "Epoch 7/10\n",
            "63/63 [==============================] - 83s 1s/step - loss: 0.2662 - accuracy: 0.9310 - val_loss: 0.5136 - val_accuracy: 0.7480\n",
            "Epoch 8/10\n",
            "63/63 [==============================] - 85s 1s/step - loss: 0.2212 - accuracy: 0.9505 - val_loss: 0.5148 - val_accuracy: 0.7400\n",
            "Epoch 9/10\n",
            "63/63 [==============================] - 95s 2s/step - loss: 0.1871 - accuracy: 0.9580 - val_loss: 0.5190 - val_accuracy: 0.7440\n",
            "Epoch 10/10\n",
            "63/63 [==============================] - 85s 1s/step - loss: 0.1560 - accuracy: 0.9710 - val_loss: 0.5296 - val_accuracy: 0.7480\n"
          ]
        }
      ]
    },
    {
      "cell_type": "code",
      "source": [
        "plt.plot(history.history['accuracy'])\n",
        "plt.plot(history.history['val_accuracy'])\n",
        "plt.xlabel('Epochs')\n",
        "plt.ylabel('Accuracy(%)')\n",
        "plt.legend(['train', 'validation'])\n",
        "plt.show()"
      ],
      "metadata": {
        "colab": {
          "base_uri": "https://localhost:8080/",
          "height": 449
        },
        "id": "IET8RfefS02U",
        "outputId": "ba6e5031-b5f8-4cef-b9aa-ddd6ed35f5cc"
      },
      "execution_count": 52,
      "outputs": [
        {
          "output_type": "display_data",
          "data": {
            "text/plain": [
              "<Figure size 640x480 with 1 Axes>"
            ],
            "image/png": "[encoded data removed]"
          },
          "metadata": {}
        }
      ]
    },
    {
      "cell_type": "code",
      "source": [
        "model.evaluate(test_ds)"
      ],
      "metadata": {
        "colab": {
          "base_uri": "https://localhost:8080/"
        },
        "id": "r3Eas-jETFnB",
        "outputId": "a019ce2d-22db-4251-968f-684eb17766da"
      },
      "execution_count": 53,
      "outputs": [
        {
          "output_type": "stream",
          "name": "stdout",
          "text": [
            "8/8 [==============================] - 2s 201ms/step - loss: 0.4810 - accuracy: 0.7760\n"
          ]
        },
        {
          "output_type": "execute_result",
          "data": {
            "text/plain": [
              "[0.48099467158317566, 0.7760000228881836]"
            ]
          },
          "metadata": {},
          "execution_count": 53
        }
      ]
    },
    {
      "cell_type": "markdown",
      "source": [
        "## Define Second Model"
      ],
      "metadata": {
        "id": "fWbFdlkCsa1i"
      }
    },
    {
      "cell_type": "code",
      "source": [
        "bert_encoder = hub.KerasLayer(\"https://tfhub.dev/tensorflow/small_bert/bert_en_uncased_L-4_H-512_A-8/1\")\n",
        "bert_preprocess = hub.KerasLayer(\"https://tfhub.dev/tensorflow/bert_en_uncased_preprocess/3\")"
      ],
      "metadata": {
        "id": "sgmyzF98Awvb"
      },
      "execution_count": 55,
      "outputs": []
    },
    {
      "cell_type": "code",
      "source": [
        "# Bert layers\n",
        "text_input = tf.keras.layers.Input(shape=(), dtype = tf.string)\n",
        "preprocessed_text = bert_preprocess(text_input)\n",
        "outputs = bert_encoder(preprocessed_text)\n",
        "\n",
        "# Neural network layers\n",
        "l = tf.keras.layers.Dropout(0.1)(outputs['pooled_output'])\n",
        "l = tf.keras.layers.Dense(1, activation='sigmoid')(l)\n",
        "\n",
        "# Use inputs and outputs to construct a final model\n",
        "model = tf.keras.Model(inputs=[text_input], outputs = [l])"
      ],
      "metadata": {
        "id": "tKp55jdGAvuR"
      },
      "execution_count": 54,
      "outputs": []
    },
    {
      "cell_type": "code",
      "source": [
        "model.compile(optimizer = tf.keras.optimizers.Adam(),\n",
        "              loss = tf.keras.losses.BinaryCrossentropy(),\n",
        "              metrics = ['accuracy'])"
      ],
      "metadata": {
        "id": "8pFCDU6UA8X-"
      },
      "execution_count": 56,
      "outputs": []
    },
    {
      "cell_type": "code",
      "source": [
        "history = model.fit(train_ds,\n",
        "                    validation_data = val_ds,\n",
        "                    epochs = 10)"
      ],
      "metadata": {
        "colab": {
          "base_uri": "https://localhost:8080/"
        },
        "id": "JJ3MWgG5AzN5",
        "outputId": "8b7590d5-4540-4eb4-d6ca-4049af943ec0"
      },
      "execution_count": 57,
      "outputs": [
        {
          "output_type": "stream",
          "name": "stdout",
          "text": [
            "Epoch 1/10\n",
            "63/63 [==============================] - 1064s 17s/step - loss: 0.6849 - accuracy: 0.5780 - val_loss: 0.6618 - val_accuracy: 0.6280\n",
            "Epoch 2/10\n",
            "63/63 [==============================] - 1052s 17s/step - loss: 0.6674 - accuracy: 0.6030 - val_loss: 0.6514 - val_accuracy: 0.6400\n",
            "Epoch 3/10\n",
            "63/63 [==============================] - 1079s 17s/step - loss: 0.6434 - accuracy: 0.6210 - val_loss: 0.6537 - val_accuracy: 0.6160\n",
            "Epoch 4/10\n",
            "63/63 [==============================] - 1082s 17s/step - loss: 0.6388 - accuracy: 0.6300 - val_loss: 0.6332 - val_accuracy: 0.6360\n",
            "Epoch 5/10\n",
            "63/63 [==============================] - 1062s 17s/step - loss: 0.6226 - accuracy: 0.6665 - val_loss: 0.6354 - val_accuracy: 0.6200\n",
            "Epoch 6/10\n",
            "63/63 [==============================] - 1056s 17s/step - loss: 0.6174 - accuracy: 0.6670 - val_loss: 0.6147 - val_accuracy: 0.6840\n",
            "Epoch 7/10\n",
            "63/63 [==============================] - 1053s 17s/step - loss: 0.6056 - accuracy: 0.6910 - val_loss: 0.6201 - val_accuracy: 0.7000\n",
            "Epoch 8/10\n",
            "63/63 [==============================] - 1048s 17s/step - loss: 0.5962 - accuracy: 0.6920 - val_loss: 0.6141 - val_accuracy: 0.6520\n",
            "Epoch 9/10\n",
            "63/63 [==============================] - 1047s 17s/step - loss: 0.6002 - accuracy: 0.6800 - val_loss: 0.6050 - val_accuracy: 0.7240\n",
            "Epoch 10/10\n",
            "63/63 [==============================] - 1053s 17s/step - loss: 0.5848 - accuracy: 0.7050 - val_loss: 0.5938 - val_accuracy: 0.7320\n"
          ]
        }
      ]
    },
    {
      "cell_type": "code",
      "source": [
        "plt.plot(history.history['accuracy'], 'bo')\n",
        "plt.plot(history.history['val_accuracy'], 'b')\n",
        "plt.xlabel('Epochs')\n",
        "plt.ylabel('Accuracy(%)')\n",
        "plt.legend(['train', 'validation'])\n",
        "plt.show()"
      ],
      "metadata": {
        "colab": {
          "base_uri": "https://localhost:8080/",
          "height": 449
        },
        "id": "qy_lKEeFnqLi",
        "outputId": "b6aca00a-5264-47ff-b899-9f2ae5593404"
      },
      "execution_count": 58,
      "outputs": [
        {
          "output_type": "display_data",
          "data": {
            "text/plain": [
              "<Figure size 640x480 with 1 Axes>"
            ],
            "image/png": "[encoded data removed]"
          },
          "metadata": {}
        }
      ]
    }
  ]
}