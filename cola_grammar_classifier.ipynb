{
  "nbformat": 4,
  "nbformat_minor": 0,
  "metadata": {
    "colab": {
      "provenance": [],
      "mount_file_id": "19mt_ILxNf5OW96NPj2iU2S5qicxLbfpu",
      "authorship_tag": "ABX9TyPAYredKa7+1YSPfz8+S86O",
      "include_colab_link": true
    },
    "kernelspec": {
      "name": "python3",
      "display_name": "Python 3"
    },
    "language_info": {
      "name": "python"
    },
    "accelerator": "TPU"
  },
  "cells": [
    {
      "cell_type": "markdown",
      "metadata": {
        "id": "view-in-github",
        "colab_type": "text"
      },
      "source": [
        "<a href=\"https://colab.research.google.com/github/lee-messi/machine-learning/blob/main/cola_grammar_classifier.ipynb\" target=\"_parent\"><img src=\"https://colab.research.google.com/assets/colab-badge.svg\" alt=\"Open In Colab\"/></a>"
      ]
    },
    {
      "cell_type": "code",
      "source": [
        "!pip install tensorflow --quiet\n",
        "!pip install tensorflow-hub --quiet\n",
        "!pip install tensorflow-text --quiet\n",
        "!pip install tensorflow-addons --quiet\n",
        "!pip install tensorflow-datasets --quiet"
      ],
      "metadata": {
        "colab": {
          "base_uri": "https://localhost:8080/"
        },
        "id": "u5lnTCkSPEbt",
        "outputId": "908fa9d7-4ec7-47cc-b4cf-35a71eddbef6"
      },
      "execution_count": 1,
      "outputs": [
        {
          "output_type": "stream",
          "name": "stdout",
          "text": [
            "\u001b[2K     \u001b[90m━━━━━━━━━━━━━━━━━━━━━━━━━━━━━━━━━━━━━━━━\u001b[0m \u001b[32m17.1/17.1 MB\u001b[0m \u001b[31m44.8 MB/s\u001b[0m eta \u001b[36m0:00:00\u001b[0m\n",
            "\u001b[?25h\u001b[31mERROR: pip's dependency resolver does not currently take into account all the packages that are installed. This behaviour is the source of the following dependency conflicts.\n",
            "chex 0.1.7 requires jax>=0.4.6, but you have jax 0.3.25 which is incompatible.\n",
            "flax 0.6.11 requires jax>=0.4.2, but you have jax 0.3.25 which is incompatible.\n",
            "orbax-checkpoint 0.2.6 requires jax>=0.4.9, but you have jax 0.3.25 which is incompatible.\u001b[0m\u001b[31m\n",
            "\u001b[2K     \u001b[90m━━━━━━━━━━━━━━━━━━━━━━━━━━━━━━━━━━━━━━━━\u001b[0m \u001b[32m6.0/6.0 MB\u001b[0m \u001b[31m35.9 MB/s\u001b[0m eta \u001b[36m0:00:00\u001b[0m\n",
            "\u001b[2K     \u001b[90m━━━━━━━━━━━━━━━━━━━━━━━━━━━━━━━━━━━━━━\u001b[0m \u001b[32m591.0/591.0 kB\u001b[0m \u001b[31m11.1 MB/s\u001b[0m eta \u001b[36m0:00:00\u001b[0m\n",
            "\u001b[?25h"
          ]
        }
      ]
    },
    {
      "cell_type": "code",
      "source": [
        "import os\n",
        "import numpy as np\n",
        "import pandas as pd\n",
        "import tensorflow as tf\n",
        "import tensorflow_hub as hub\n",
        "import tensorflow_text as text\n",
        "import tensorflow_addons as tfa\n",
        "import tensorflow_datasets as tfds\n",
        "\n",
        "tf.get_logger().setLevel('ERROR')\n",
        "os.environ[\"TFHUB_MODEL_LOAD_FORMAT\"]=\"UNCOMPRESSED\""
      ],
      "metadata": {
        "id": "T_5ey_StOQgd"
      },
      "execution_count": 10,
      "outputs": []
    },
    {
      "cell_type": "code",
      "source": [
        "if os.environ['COLAB_TPU_ADDR']:\n",
        "  cluster_resolver = tf.distribute.cluster_resolver.TPUClusterResolver(tpu='')\n",
        "  tf.config.experimental_connect_to_cluster(cluster_resolver)\n",
        "  tf.tpu.experimental.initialize_tpu_system(cluster_resolver)\n",
        "  strategy = tf.distribute.TPUStrategy(cluster_resolver)\n",
        "  print('Using TPU')\n",
        "elif tf.config.list_physical_devices('GPU'):\n",
        "  strategy = tf.distribute.MirroredStrategy()\n",
        "  print('Using GPU')\n",
        "else:\n",
        "  raise ValueError('Running on CPU is not recommended.')"
      ],
      "metadata": {
        "colab": {
          "base_uri": "https://localhost:8080/"
        },
        "id": "l-KR1d2fP0ff",
        "outputId": "2bbc03f2-bbd5-4003-e289-2cb1dc294ab9"
      },
      "execution_count": 5,
      "outputs": [
        {
          "output_type": "stream",
          "name": "stdout",
          "text": [
            "Using TPU\n"
          ]
        }
      ]
    },
    {
      "cell_type": "code",
      "source": [
        "train = pd.read_csv('drive/MyDrive/Colab Notebooks/glue-tasks/in_domain_train.tsv',\n",
        "                    sep = '\\t', header = None)\n",
        "val = pd.read_csv('drive/MyDrive/Colab Notebooks/glue-tasks/in_domain_dev.tsv',\n",
        "                  sep = '\\t', header = None)\n",
        "test = pd.read_csv('drive/MyDrive/Colab Notebooks/glue-tasks/out_of_domain_dev.tsv',\n",
        "                   sep = '\\t', header = None)"
      ],
      "metadata": {
        "id": "A7EtWaOqXdC0"
      },
      "execution_count": 18,
      "outputs": []
    },
    {
      "cell_type": "code",
      "source": [
        "train.columns = ['misc', 'labels', 'na', 'text']\n",
        "val.columns = ['misc', 'labels', 'na', 'text']\n",
        "test.columns = ['misc', 'labels', 'na', 'text']"
      ],
      "metadata": {
        "id": "A47VxiErc66F"
      },
      "execution_count": 25,
      "outputs": []
    },
    {
      "cell_type": "code",
      "source": [
        "'{}{}{}'.format(train.shape, val.shape, test.shape)"
      ],
      "metadata": {
        "colab": {
          "base_uri": "https://localhost:8080/",
          "height": 37
        },
        "id": "hMbIOAoGZ_4j",
        "outputId": "37079280-29df-40ea-b463-1d6282f52694"
      },
      "execution_count": 26,
      "outputs": [
        {
          "output_type": "execute_result",
          "data": {
            "text/plain": [
              "'(8551, 4)(527, 4)(516, 4)'"
            ],
            "application/vnd.google.colaboratory.intrinsic+json": {
              "type": "string"
            }
          },
          "metadata": {},
          "execution_count": 26
        }
      ]
    },
    {
      "cell_type": "code",
      "source": [
        "def df_to_dataset(dataframe, shuffle = True, batch_size = 256):\n",
        "    df = dataframe.copy()\n",
        "    labels = df.labels\n",
        "    df = df.text\n",
        "    ds = tf.data.Dataset.from_tensor_slices((df, labels))\n",
        "    if shuffle == True:\n",
        "        ds = ds.shuffle(buffer_size = len(df))\n",
        "    ds = ds.batch(batch_size)\n",
        "    ds = ds.prefetch(tf.data.AUTOTUNE)\n",
        "    return(ds)"
      ],
      "metadata": {
        "id": "UalPWlvleViL"
      },
      "execution_count": 42,
      "outputs": []
    },
    {
      "cell_type": "code",
      "source": [
        "train_ds = df_to_dataset(train)\n",
        "val_ds = df_to_dataset(val)\n",
        "test_ds = df_to_dataset(test)"
      ],
      "metadata": {
        "id": "jYRIqtO4es4C"
      },
      "execution_count": 43,
      "outputs": []
    },
    {
      "cell_type": "code",
      "source": [
        "tfhub_handle_encoder = 'https://tfhub.dev/tensorflow/bert_en_uncased_L-12_H-768_A-12/3'\n",
        "tfhub_handle_preprocess = 'https://tfhub.dev/tensorflow/bert_en_uncased_preprocess/3'"
      ],
      "metadata": {
        "id": "E7PqElg0QjI9"
      },
      "execution_count": 28,
      "outputs": []
    },
    {
      "cell_type": "code",
      "source": [
        "bert_preprocess = hub.KerasLayer(tfhub_handle_preprocess)\n",
        "bert_encoder = hub.KerasLayer(tfhub_handle_encoder)"
      ],
      "metadata": {
        "id": "wMu9KRFNQv_b"
      },
      "execution_count": 38,
      "outputs": []
    },
    {
      "cell_type": "code",
      "source": [
        "text_input = tf.keras.layers.Input(shape = (), dtype = tf.string)\n",
        "encoder_input = bert_preprocess(text_input)\n",
        "encoder_output = bert_encoder(encoder_input)\n",
        "\n",
        "l = tf.keras.layers.Dense(100, activation = 'relu')(encoder_output['pooled_output'])\n",
        "l = tf.keras.layers.Dense(1, activation = 'sigmoid')(l)\n",
        "model = tf.keras.Model(inputs=[text_input], outputs = [l])"
      ],
      "metadata": {
        "id": "I9pyoNzuRoSx"
      },
      "execution_count": 51,
      "outputs": []
    },
    {
      "cell_type": "code",
      "source": [
        "model.compile(optimizer = tf.keras.optimizers.Adam(learning_rate = 0.005),\n",
        "              loss = tf.keras.losses.BinaryCrossentropy(),\n",
        "              metrics = ['accuracy'])"
      ],
      "metadata": {
        "id": "SJbPZyzDReGA"
      },
      "execution_count": 52,
      "outputs": []
    },
    {
      "cell_type": "code",
      "source": [
        "history = model.fit(train_ds,\n",
        "                    validation_data = val_ds,\n",
        "                    epochs = 10)"
      ],
      "metadata": {
        "colab": {
          "base_uri": "https://localhost:8080/"
        },
        "id": "IRGHV0tUgPCd",
        "outputId": "70b8aea9-afc3-425a-f6de-3325b833f57e"
      },
      "execution_count": 53,
      "outputs": [
        {
          "output_type": "stream",
          "name": "stdout",
          "text": [
            "Epoch 1/10\n",
            "34/34 [==============================] - 222s 6s/step - loss: 0.8136 - accuracy: 0.6493 - val_loss: 0.5866 - val_accuracy: 0.7040\n",
            "Epoch 2/10\n",
            "34/34 [==============================] - 216s 6s/step - loss: 0.5761 - accuracy: 0.7121 - val_loss: 0.5773 - val_accuracy: 0.7059\n",
            "Epoch 3/10\n",
            "34/34 [==============================] - 215s 6s/step - loss: 0.5635 - accuracy: 0.7200 - val_loss: 0.5704 - val_accuracy: 0.7059\n",
            "Epoch 4/10\n",
            "34/34 [==============================] - 215s 6s/step - loss: 0.5604 - accuracy: 0.7242 - val_loss: 0.5649 - val_accuracy: 0.7116\n",
            "Epoch 5/10\n",
            "34/34 [==============================] - 215s 6s/step - loss: 0.5541 - accuracy: 0.7314 - val_loss: 0.5544 - val_accuracy: 0.7306\n",
            "Epoch 6/10\n",
            "34/34 [==============================] - 216s 6s/step - loss: 0.5500 - accuracy: 0.7318 - val_loss: 0.5632 - val_accuracy: 0.7192\n",
            "Epoch 7/10\n",
            "34/34 [==============================] - 216s 6s/step - loss: 0.5444 - accuracy: 0.7344 - val_loss: 0.5762 - val_accuracy: 0.7116\n",
            "Epoch 8/10\n",
            "34/34 [==============================] - 216s 6s/step - loss: 0.5416 - accuracy: 0.7394 - val_loss: 0.5616 - val_accuracy: 0.7476\n",
            "Epoch 9/10\n",
            "34/34 [==============================] - 215s 6s/step - loss: 0.5525 - accuracy: 0.7332 - val_loss: 0.5736 - val_accuracy: 0.7078\n",
            "Epoch 10/10\n",
            "34/34 [==============================] - 215s 6s/step - loss: 0.5451 - accuracy: 0.7396 - val_loss: 0.5439 - val_accuracy: 0.7362\n"
          ]
        }
      ]
    },
    {
      "cell_type": "code",
      "source": [
        "model.predict([''])"
      ],
      "metadata": {
        "id": "9uSZNBmcg0cb"
      },
      "execution_count": null,
      "outputs": []
    }
  ]
}