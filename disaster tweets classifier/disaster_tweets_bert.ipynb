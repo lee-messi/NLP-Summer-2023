{
  "cells": [
    {
      "cell_type": "markdown",
      "metadata": {
        "id": "view-in-github",
        "colab_type": "text"
      },
      "source": [
        "<a href=\"https://colab.research.google.com/github/lee-messi/machine-learning/blob/main/disaster_tweets_bert.ipynb\" target=\"_parent\"><img src=\"https://colab.research.google.com/assets/colab-badge.svg\" alt=\"Open In Colab\"/></a>"
      ]
    },
    {
      "cell_type": "code",
      "execution_count": 1,
      "metadata": {
        "id": "QUuXYe80M6k5"
      },
      "outputs": [],
      "source": [
        "!pip install tensorflow --quiet\n",
        "!pip install tensorflow-hub --quiet\n",
        "!pip install tensorflow-text --quiet\n",
        "!pip install tensorflow-addons --quiet\n",
        "!pip install tensorflow-datasets --quiet"
      ]
    },
    {
      "cell_type": "code",
      "execution_count": 2,
      "metadata": {
        "id": "T_5ey_StOQgd",
        "colab": {
          "base_uri": "https://localhost:8080/"
        },
        "outputId": "6b398b1b-31c0-4d63-fe08-727bcb395608"
      },
      "outputs": [
        {
          "output_type": "stream",
          "name": "stderr",
          "text": [
            "/usr/local/lib/python3.10/dist-packages/tensorflow_addons/utils/tfa_eol_msg.py:23: UserWarning: \n",
            "\n",
            "TensorFlow Addons (TFA) has ended development and introduction of new features.\n",
            "TFA has entered a minimal maintenance and release mode until a planned end of life in May 2024.\n",
            "Please modify downstream libraries to take dependencies from other repositories in our TensorFlow community (e.g. Keras, Keras-CV, and Keras-NLP). \n",
            "\n",
            "For more information see: https://github.com/tensorflow/addons/issues/2807 \n",
            "\n",
            "  warnings.warn(\n"
          ]
        }
      ],
      "source": [
        "import os, re\n",
        "import numpy as np\n",
        "import pandas as pd\n",
        "import tensorflow as tf\n",
        "import tensorflow_hub as hub\n",
        "import tensorflow_text as text\n",
        "import tensorflow_addons as tfa\n",
        "import tensorflow_datasets as tfds\n",
        "\n",
        "tf.get_logger().setLevel('ERROR')\n",
        "os.environ[\"TFHUB_MODEL_LOAD_FORMAT\"]=\"UNCOMPRESSED\""
      ]
    },
    {
      "cell_type": "code",
      "source": [
        "if os.environ['COLAB_TPU_ADDR']:\n",
        "  cluster_resolver = tf.distribute.cluster_resolver.TPUClusterResolver(tpu='')\n",
        "  tf.config.experimental_connect_to_cluster(cluster_resolver)\n",
        "  tf.tpu.experimental.initialize_tpu_system(cluster_resolver)\n",
        "  strategy = tf.distribute.TPUStrategy(cluster_resolver)\n",
        "  print('Using TPU')\n",
        "elif tf.config.list_physical_devices('GPU'):\n",
        "  strategy = tf.distribute.MirroredStrategy()\n",
        "  print('Using GPU')\n",
        "else:\n",
        "  raise ValueError('Running on CPU is not recommended.')"
      ],
      "metadata": {
        "colab": {
          "base_uri": "https://localhost:8080/"
        },
        "id": "U1oObjA7lbXc",
        "outputId": "23612d1b-0a2b-47f3-9366-c01b0cbb9425"
      },
      "execution_count": 3,
      "outputs": [
        {
          "output_type": "stream",
          "name": "stdout",
          "text": [
            "Using TPU\n"
          ]
        }
      ]
    },
    {
      "cell_type": "markdown",
      "metadata": {
        "id": "Da8AGPhK2yzG"
      },
      "source": [
        "## Disaster Tweets"
      ]
    },
    {
      "cell_type": "code",
      "execution_count": 4,
      "metadata": {
        "colab": {
          "base_uri": "https://localhost:8080/"
        },
        "id": "A7EtWaOqXdC0",
        "outputId": "8abc70a6-b7b2-4848-f4be-100cd94bda4f"
      },
      "outputs": [
        {
          "output_type": "stream",
          "name": "stdout",
          "text": [
            "Index(['id', 'keyword', 'location', 'text', 'target'], dtype='object')\n"
          ]
        }
      ],
      "source": [
        "dataset = pd.read_csv('drive/MyDrive/Colab Notebooks/disaster-tweets/train.csv')\n",
        "print(dataset.columns)"
      ]
    },
    {
      "cell_type": "markdown",
      "metadata": {
        "id": "INKwyclWGXjF"
      },
      "source": [
        "We are going to use the tweet text to predict whether or not the tweet is about an actual disaster."
      ]
    },
    {
      "cell_type": "code",
      "execution_count": 5,
      "metadata": {
        "colab": {
          "base_uri": "https://localhost:8080/"
        },
        "id": "-MlOFWP7GlNq",
        "outputId": "a72e2e79-d726-4816-87f8-fbb59fb20ea6"
      },
      "outputs": [
        {
          "output_type": "execute_result",
          "data": {
            "text/plain": [
              "0    4342\n",
              "1    3271\n",
              "Name: target, dtype: int64"
            ]
          },
          "metadata": {},
          "execution_count": 5
        }
      ],
      "source": [
        "dataset.target.value_counts()"
      ]
    },
    {
      "cell_type": "markdown",
      "metadata": {
        "id": "r_8ADa9MGqN8"
      },
      "source": [
        "There are 6,023 sentences with label 1 and 2,528 sentences with label 0. Let's balance these out."
      ]
    },
    {
      "cell_type": "code",
      "execution_count": 6,
      "metadata": {
        "id": "9JA_a_NKx46r"
      },
      "outputs": [],
      "source": [
        "dataset = dataset.groupby('target').sample(3000)"
      ]
    },
    {
      "cell_type": "code",
      "source": [
        "dataset['text'] = dataset['text'].apply(lambda x: re.sub(r'http\\S+', '', x))\n",
        "dataset['text'] = dataset['text'].apply(lambda x: re.sub(r'\\W+', ' ', x))\n",
        "dataset['text'] = dataset['text'].apply(lambda x: re.sub(r'\\d+', '', x))\n",
        "dataset['text'] = dataset['text'].apply(lambda x: x.lower())"
      ],
      "metadata": {
        "id": "5m9y-gVebZsj"
      },
      "execution_count": 7,
      "outputs": []
    },
    {
      "cell_type": "code",
      "source": [
        "dataset.head()"
      ],
      "metadata": {
        "colab": {
          "base_uri": "https://localhost:8080/",
          "height": 206
        },
        "id": "fHmWrQoyb9Vb",
        "outputId": "dcad6f2a-2337-48ba-9043-dec5a1ae213c"
      },
      "execution_count": 8,
      "outputs": [
        {
          "output_type": "execute_result",
          "data": {
            "text/plain": [
              "        id            keyword                location  \\\n",
              "5558  7933          rainstorm                     NaN   \n",
              "4079  5798               hail                     NaN   \n",
              "3404  4874            explode  New Orleans, Louisiana   \n",
              "4501  6398          hurricane                     NaN   \n",
              "5126  7311  nuclear%20reactor                     NaN   \n",
              "\n",
              "                                                   text  target  \n",
              "5558  robot_rainstorm we have two vacancies on the c...       0  \n",
              "4079  thank you so so much to everyone for posting t...       0  \n",
              "3404  see these guys reaching the front foot out loa...       0  \n",
              "4501  they should name hurricanes with black people ...       0  \n",
              "5126  nuclear reactor railguns would be a great way ...       0  "
            ],
            "text/html": [
              "\n",
              "  <div id=\"df-ac9eb2e3-97f2-427d-88b2-fde56f8b096c\">\n",
              "    <div class=\"colab-df-container\">\n",
              "      <div>\n",
              "<style scoped>\n",
              "    .dataframe tbody tr th:only-of-type {\n",
              "        vertical-align: middle;\n",
              "    }\n",
              "\n",
              "    .dataframe tbody tr th {\n",
              "        vertical-align: top;\n",
              "    }\n",
              "\n",
              "    .dataframe thead th {\n",
              "        text-align: right;\n",
              "    }\n",
              "</style>\n",
              "<table border=\"1\" class=\"dataframe\">\n",
              "  <thead>\n",
              "    <tr style=\"text-align: right;\">\n",
              "      <th></th>\n",
              "      <th>id</th>\n",
              "      <th>keyword</th>\n",
              "      <th>location</th>\n",
              "      <th>text</th>\n",
              "      <th>target</th>\n",
              "    </tr>\n",
              "  </thead>\n",
              "  <tbody>\n",
              "    <tr>\n",
              "      <th>5558</th>\n",
              "      <td>7933</td>\n",
              "      <td>rainstorm</td>\n",
              "      <td>NaN</td>\n",
              "      <td>robot_rainstorm we have two vacancies on the c...</td>\n",
              "      <td>0</td>\n",
              "    </tr>\n",
              "    <tr>\n",
              "      <th>4079</th>\n",
              "      <td>5798</td>\n",
              "      <td>hail</td>\n",
              "      <td>NaN</td>\n",
              "      <td>thank you so so much to everyone for posting t...</td>\n",
              "      <td>0</td>\n",
              "    </tr>\n",
              "    <tr>\n",
              "      <th>3404</th>\n",
              "      <td>4874</td>\n",
              "      <td>explode</td>\n",
              "      <td>New Orleans, Louisiana</td>\n",
              "      <td>see these guys reaching the front foot out loa...</td>\n",
              "      <td>0</td>\n",
              "    </tr>\n",
              "    <tr>\n",
              "      <th>4501</th>\n",
              "      <td>6398</td>\n",
              "      <td>hurricane</td>\n",
              "      <td>NaN</td>\n",
              "      <td>they should name hurricanes with black people ...</td>\n",
              "      <td>0</td>\n",
              "    </tr>\n",
              "    <tr>\n",
              "      <th>5126</th>\n",
              "      <td>7311</td>\n",
              "      <td>nuclear%20reactor</td>\n",
              "      <td>NaN</td>\n",
              "      <td>nuclear reactor railguns would be a great way ...</td>\n",
              "      <td>0</td>\n",
              "    </tr>\n",
              "  </tbody>\n",
              "</table>\n",
              "</div>\n",
              "      <button class=\"colab-df-convert\" onclick=\"convertToInteractive('df-ac9eb2e3-97f2-427d-88b2-fde56f8b096c')\"\n",
              "              title=\"Convert this dataframe to an interactive table.\"\n",
              "              style=\"display:none;\">\n",
              "        \n",
              "  <svg xmlns=\"http://www.w3.org/2000/svg\" height=\"24px\"viewBox=\"0 0 24 24\"\n",
              "       width=\"24px\">\n",
              "    <path d=\"M0 0h24v24H0V0z\" fill=\"none\"/>\n",
              "    <path d=\"M18.56 5.44l.94 2.06.94-2.06 2.06-.94-2.06-.94-.94-2.06-.94 2.06-2.06.94zm-11 1L8.5 8.5l.94-2.06 2.06-.94-2.06-.94L8.5 2.5l-.94 2.06-2.06.94zm10 10l.94 2.06.94-2.06 2.06-.94-2.06-.94-.94-2.06-.94 2.06-2.06.94z\"/><path d=\"M17.41 7.96l-1.37-1.37c-.4-.4-.92-.59-1.43-.59-.52 0-1.04.2-1.43.59L10.3 9.45l-7.72 7.72c-.78.78-.78 2.05 0 2.83L4 21.41c.39.39.9.59 1.41.59.51 0 1.02-.2 1.41-.59l7.78-7.78 2.81-2.81c.8-.78.8-2.07 0-2.86zM5.41 20L4 18.59l7.72-7.72 1.47 1.35L5.41 20z\"/>\n",
              "  </svg>\n",
              "      </button>\n",
              "      \n",
              "  <style>\n",
              "    .colab-df-container {\n",
              "      display:flex;\n",
              "      flex-wrap:wrap;\n",
              "      gap: 12px;\n",
              "    }\n",
              "\n",
              "    .colab-df-convert {\n",
              "      background-color: #E8F0FE;\n",
              "      border: none;\n",
              "      border-radius: 50%;\n",
              "      cursor: pointer;\n",
              "      display: none;\n",
              "      fill: #1967D2;\n",
              "      height: 32px;\n",
              "      padding: 0 0 0 0;\n",
              "      width: 32px;\n",
              "    }\n",
              "\n",
              "    .colab-df-convert:hover {\n",
              "      background-color: #E2EBFA;\n",
              "      box-shadow: 0px 1px 2px rgba(60, 64, 67, 0.3), 0px 1px 3px 1px rgba(60, 64, 67, 0.15);\n",
              "      fill: #174EA6;\n",
              "    }\n",
              "\n",
              "    [theme=dark] .colab-df-convert {\n",
              "      background-color: #3B4455;\n",
              "      fill: #D2E3FC;\n",
              "    }\n",
              "\n",
              "    [theme=dark] .colab-df-convert:hover {\n",
              "      background-color: #434B5C;\n",
              "      box-shadow: 0px 1px 3px 1px rgba(0, 0, 0, 0.15);\n",
              "      filter: drop-shadow(0px 1px 2px rgba(0, 0, 0, 0.3));\n",
              "      fill: #FFFFFF;\n",
              "    }\n",
              "  </style>\n",
              "\n",
              "      <script>\n",
              "        const buttonEl =\n",
              "          document.querySelector('#df-ac9eb2e3-97f2-427d-88b2-fde56f8b096c button.colab-df-convert');\n",
              "        buttonEl.style.display =\n",
              "          google.colab.kernel.accessAllowed ? 'block' : 'none';\n",
              "\n",
              "        async function convertToInteractive(key) {\n",
              "          const element = document.querySelector('#df-ac9eb2e3-97f2-427d-88b2-fde56f8b096c');\n",
              "          const dataTable =\n",
              "            await google.colab.kernel.invokeFunction('convertToInteractive',\n",
              "                                                     [key], {});\n",
              "          if (!dataTable) return;\n",
              "\n",
              "          const docLinkHtml = 'Like what you see? Visit the ' +\n",
              "            '<a target=\"_blank\" href=https://colab.research.google.com/notebooks/data_table.ipynb>data table notebook</a>'\n",
              "            + ' to learn more about interactive tables.';\n",
              "          element.innerHTML = '';\n",
              "          dataTable['output_type'] = 'display_data';\n",
              "          await google.colab.output.renderOutput(dataTable, element);\n",
              "          const docLink = document.createElement('div');\n",
              "          docLink.innerHTML = docLinkHtml;\n",
              "          element.appendChild(docLink);\n",
              "        }\n",
              "      </script>\n",
              "    </div>\n",
              "  </div>\n",
              "  "
            ]
          },
          "metadata": {},
          "execution_count": 8
        }
      ]
    },
    {
      "cell_type": "code",
      "execution_count": 9,
      "metadata": {
        "id": "8ecAb7IhSm5u"
      },
      "outputs": [],
      "source": [
        "train, val, test = np.split(dataset.sample(frac = 1), [int(0.8 * len(dataset)), int(0.9 * len(dataset))])"
      ]
    },
    {
      "cell_type": "markdown",
      "metadata": {
        "id": "bNCpjs5GHnAz"
      },
      "source": [
        "Then, we are going to implement the **df_to_dataset()** function to create a **tf.data.Dataset** using the balanced reviews dataset. This allows us to map the features in the pandas dataframe to features that are more appropriate for training. You can read more about this and check out the function that is used to perform this task [here](https://www.tensorflow.org/tutorials/structured_data/feature_columns). Then, we are going to map the training, validation, and test datasets using the function. Note that depending on the features that you use in the model, you may have to modify parts of the function."
      ]
    },
    {
      "cell_type": "code",
      "execution_count": 10,
      "metadata": {
        "id": "UalPWlvleViL"
      },
      "outputs": [],
      "source": [
        "def df_to_dataset(dataframe, shuffle = True, batch_size = 128):\n",
        "    df = dataframe.copy()\n",
        "    labels = df.target\n",
        "    df = df.text\n",
        "    ds = tf.data.Dataset.from_tensor_slices((df, labels))\n",
        "    if shuffle == True:\n",
        "        ds = ds.shuffle(buffer_size = len(df))\n",
        "    ds = ds.batch(batch_size)\n",
        "    ds = ds.prefetch(tf.data.AUTOTUNE)\n",
        "    return(ds)"
      ]
    },
    {
      "cell_type": "code",
      "execution_count": 11,
      "metadata": {
        "id": "jYRIqtO4es4C"
      },
      "outputs": [],
      "source": [
        "train_ds = df_to_dataset(train)\n",
        "val_ds = df_to_dataset(val)\n",
        "test_ds = df_to_dataset(test)"
      ]
    },
    {
      "cell_type": "markdown",
      "metadata": {
        "id": "MTTBLbwuHxeN"
      },
      "source": [
        "## Classifier Model using BERT"
      ]
    },
    {
      "cell_type": "code",
      "execution_count": 12,
      "metadata": {
        "id": "E7PqElg0QjI9"
      },
      "outputs": [],
      "source": [
        "tfhub_handle_encoder = 'https://tfhub.dev/tensorflow/bert_en_uncased_L-12_H-768_A-12/3'\n",
        "tfhub_handle_preprocess = 'https://tfhub.dev/tensorflow/bert_en_uncased_preprocess/3'"
      ]
    },
    {
      "cell_type": "code",
      "execution_count": 13,
      "metadata": {
        "id": "wMu9KRFNQv_b"
      },
      "outputs": [],
      "source": [
        "bert_preprocess = hub.KerasLayer(tfhub_handle_preprocess)\n",
        "bert_encoder = hub.KerasLayer(tfhub_handle_encoder)"
      ]
    },
    {
      "cell_type": "code",
      "execution_count": 67,
      "metadata": {
        "id": "I9pyoNzuRoSx"
      },
      "outputs": [],
      "source": [
        "text_input = tf.keras.layers.Input(shape = (), dtype = tf.string)\n",
        "encoder_input = bert_preprocess(text_input)\n",
        "encoder_output = bert_encoder(encoder_input)\n",
        "\n",
        "l = tf.keras.layers.Dense(100, activation = 'relu')(encoder_output['sequence_output'])\n",
        "l = tf.keras.layers.LSTM(100, return_sequences = True, dropout = 0.3)(l)\n",
        "l = tf.keras.layers.LSTM(50, return_sequences = True)(l)\n",
        "l = tf.keras.layers.LSTM(25)(l)\n",
        "l = tf.keras.layers.Dense(25, activation = 'relu')(l)\n",
        "l = tf.keras.layers.Dense(1, activation = 'sigmoid')(l)\n",
        "model = tf.keras.Model(inputs=[text_input], outputs = [l])"
      ]
    },
    {
      "cell_type": "code",
      "execution_count": 68,
      "metadata": {
        "id": "SJbPZyzDReGA"
      },
      "outputs": [],
      "source": [
        "model.compile(optimizer = tf.keras.optimizers.Adam(learning_rate = 0.001),\n",
        "              loss = tf.keras.losses.BinaryCrossentropy(),\n",
        "              metrics = ['accuracy'])"
      ]
    },
    {
      "cell_type": "code",
      "execution_count": 69,
      "metadata": {
        "colab": {
          "base_uri": "https://localhost:8080/"
        },
        "id": "W9D5z-37ATi_",
        "outputId": "ab05bd3a-ac36-4137-ef70-e6131c58f6dd"
      },
      "outputs": [
        {
          "output_type": "stream",
          "name": "stdout",
          "text": [
            "Model: \"model_3\"\n",
            "__________________________________________________________________________________________________\n",
            " Layer (type)                   Output Shape         Param #     Connected to                     \n",
            "==================================================================================================\n",
            " input_6 (InputLayer)           [(None,)]            0           []                               \n",
            "                                                                                                  \n",
            " keras_layer (KerasLayer)       {'input_word_ids':   0           ['input_6[0][0]']                \n",
            "                                (None, 128),                                                      \n",
            "                                 'input_mask': (Non                                               \n",
            "                                e, 128),                                                          \n",
            "                                 'input_type_ids':                                                \n",
            "                                (None, 128)}                                                      \n",
            "                                                                                                  \n",
            " keras_layer_1 (KerasLayer)     {'default': (None,   109482241   ['keras_layer[5][0]',            \n",
            "                                768),                             'keras_layer[5][1]',            \n",
            "                                 'pooled_output': (               'keras_layer[5][2]']            \n",
            "                                None, 768),                                                       \n",
            "                                 'sequence_output':                                               \n",
            "                                 (None, 128, 768),                                                \n",
            "                                 'encoder_outputs':                                               \n",
            "                                 [(None, 128, 768),                                               \n",
            "                                 (None, 128, 768),                                                \n",
            "                                 (None, 128, 768),                                                \n",
            "                                 (None, 128, 768),                                                \n",
            "                                 (None, 128, 768),                                                \n",
            "                                 (None, 128, 768),                                                \n",
            "                                 (None, 128, 768),                                                \n",
            "                                 (None, 128, 768),                                                \n",
            "                                 (None, 128, 768),                                                \n",
            "                                 (None, 128, 768),                                                \n",
            "                                 (None, 128, 768),                                                \n",
            "                                 (None, 128, 768)]}                                               \n",
            "                                                                                                  \n",
            " dense_11 (Dense)               (None, 128, 100)     76900       ['keras_layer_1[5][14]']         \n",
            "                                                                                                  \n",
            " lstm_4 (LSTM)                  (None, 128, 100)     80400       ['dense_11[0][0]']               \n",
            "                                                                                                  \n",
            " lstm_5 (LSTM)                  (None, 128, 50)      30200       ['lstm_4[0][0]']                 \n",
            "                                                                                                  \n",
            " lstm_6 (LSTM)                  (None, 25)           7600        ['lstm_5[0][0]']                 \n",
            "                                                                                                  \n",
            " dense_12 (Dense)               (None, 25)           650         ['lstm_6[0][0]']                 \n",
            "                                                                                                  \n",
            " dense_13 (Dense)               (None, 1)            26          ['dense_12[0][0]']               \n",
            "                                                                                                  \n",
            "==================================================================================================\n",
            "Total params: 109,678,017\n",
            "Trainable params: 195,776\n",
            "Non-trainable params: 109,482,241\n",
            "__________________________________________________________________________________________________\n"
          ]
        }
      ],
      "source": [
        "model.summary()"
      ]
    },
    {
      "cell_type": "code",
      "execution_count": 70,
      "metadata": {
        "id": "Ti7T68tZqMJI"
      },
      "outputs": [],
      "source": [
        "early_stopping = tf.keras.callbacks.EarlyStopping(monitor = 'val_loss', patience = 3)"
      ]
    },
    {
      "cell_type": "code",
      "execution_count": 71,
      "metadata": {
        "colab": {
          "base_uri": "https://localhost:8080/"
        },
        "id": "IRGHV0tUgPCd",
        "outputId": "86df6d24-669a-44ce-e231-d6f281158f88"
      },
      "outputs": [
        {
          "output_type": "stream",
          "name": "stdout",
          "text": [
            "Epoch 1/30\n",
            "38/38 [==============================] - 156s 4s/step - loss: 0.5307 - accuracy: 0.7465 - val_loss: 0.4897 - val_accuracy: 0.7467\n",
            "Epoch 2/30\n",
            "38/38 [==============================] - 142s 4s/step - loss: 0.4748 - accuracy: 0.7908 - val_loss: 0.4489 - val_accuracy: 0.8050\n",
            "Epoch 3/30\n",
            "38/38 [==============================] - 142s 4s/step - loss: 0.4342 - accuracy: 0.8069 - val_loss: 0.4456 - val_accuracy: 0.8050\n",
            "Epoch 4/30\n",
            "38/38 [==============================] - 142s 4s/step - loss: 0.4140 - accuracy: 0.8246 - val_loss: 0.4528 - val_accuracy: 0.7883\n",
            "Epoch 5/30\n",
            "38/38 [==============================] - 142s 4s/step - loss: 0.3956 - accuracy: 0.8285 - val_loss: 0.4462 - val_accuracy: 0.8083\n",
            "Epoch 6/30\n",
            "38/38 [==============================] - 142s 4s/step - loss: 0.3655 - accuracy: 0.8469 - val_loss: 0.4673 - val_accuracy: 0.7883\n",
            "Epoch 7/30\n",
            "38/38 [==============================] - 142s 4s/step - loss: 0.3382 - accuracy: 0.8615 - val_loss: 0.4713 - val_accuracy: 0.8017\n",
            "Epoch 8/30\n",
            "38/38 [==============================] - 142s 4s/step - loss: 0.2966 - accuracy: 0.8827 - val_loss: 0.5179 - val_accuracy: 0.7900\n"
          ]
        }
      ],
      "source": [
        "history = model.fit(train_ds,\n",
        "                    validation_data = val_ds,\n",
        "                    epochs = 30,\n",
        "                    callbacks = [early_stopping])"
      ]
    },
    {
      "cell_type": "code",
      "execution_count": 72,
      "metadata": {
        "id": "xNH1l460AMWj"
      },
      "outputs": [],
      "source": [
        "final = pd.read_csv('drive/MyDrive/Colab Notebooks/disaster-tweets/test.csv')"
      ]
    },
    {
      "cell_type": "code",
      "source": [
        "final['text'] = final['text'].apply(lambda x: re.sub(r'http\\S+', '', x))\n",
        "final['text'] = final['text'].apply(lambda x: re.sub(r'\\W+', ' ', x))\n",
        "final['text'] = final['text'].apply(lambda x: re.sub(r'\\d+', '', x))\n",
        "final['text'] = final['text'].apply(lambda x: x.lower())"
      ],
      "metadata": {
        "id": "l5eEV5r0v97b"
      },
      "execution_count": 73,
      "outputs": []
    },
    {
      "cell_type": "code",
      "execution_count": 74,
      "metadata": {
        "id": "TgsPMr5hAShi",
        "colab": {
          "base_uri": "https://localhost:8080/"
        },
        "outputId": "e240290d-6986-4cab-84a4-f970b283e10a"
      },
      "outputs": [
        {
          "output_type": "stream",
          "name": "stdout",
          "text": [
            "102/102 [==============================] - 113s 1s/step\n"
          ]
        }
      ],
      "source": [
        "predictions = (model.predict(final.text) > 0.5).astype(int).ravel()"
      ]
    },
    {
      "cell_type": "code",
      "source": [
        "predictions_df = pd.DataFrame(list(zip(final.id, predictions)),\n",
        "                              columns = ['id', 'target'])"
      ],
      "metadata": {
        "id": "iqaHvlwfw6-l"
      },
      "execution_count": 75,
      "outputs": []
    },
    {
      "cell_type": "code",
      "source": [
        "predictions_df.to_csv('predictions.csv', index = False)"
      ],
      "metadata": {
        "id": "MD8xpeNSw1CZ"
      },
      "execution_count": 76,
      "outputs": []
    }
  ],
  "metadata": {
    "accelerator": "TPU",
    "colab": {
      "provenance": [],
      "mount_file_id": "1QczRoXoW98zmTdQ2Oc02LTbnf8_sdeN-",
      "authorship_tag": "ABX9TyNAWDE2MrVpNMdzLXbdTryj",
      "include_colab_link": true
    },
    "kernelspec": {
      "display_name": "Python 3",
      "name": "python3"
    },
    "language_info": {
      "name": "python"
    }
  },
  "nbformat": 4,
  "nbformat_minor": 0
}