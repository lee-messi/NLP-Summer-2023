{
  "nbformat": 4,
  "nbformat_minor": 0,
  "metadata": {
    "colab": {
      "provenance": [],
      "mount_file_id": "1raJnMCthjKjiWoU8CFiXsjVL1678Uyi7",
      "authorship_tag": "ABX9TyO5JjMXFb48/DvUCoHDR8EH",
      "include_colab_link": true
    },
    "kernelspec": {
      "name": "python3",
      "display_name": "Python 3"
    },
    "language_info": {
      "name": "python"
    }
  },
  "cells": [
    {
      "cell_type": "markdown",
      "metadata": {
        "id": "view-in-github",
        "colab_type": "text"
      },
      "source": [
        "<a href=\"https://colab.research.google.com/github/lee-messi/machine-learning/blob/main/keyword_based_classifier.ipynb\" target=\"_parent\"><img src=\"https://colab.research.google.com/assets/colab-badge.svg\" alt=\"Open In Colab\"/></a>"
      ]
    },
    {
      "cell_type": "code",
      "source": [
        "import os, re\n",
        "import numpy as np\n",
        "import pandas as pd\n",
        "pd.set_option('display.max_colwidth', None)"
      ],
      "metadata": {
        "id": "T_5ey_StOQgd"
      },
      "execution_count": 2,
      "outputs": []
    },
    {
      "cell_type": "markdown",
      "source": [
        "## Disaster Tweets"
      ],
      "metadata": {
        "id": "Da8AGPhK2yzG"
      }
    },
    {
      "cell_type": "code",
      "source": [
        "dataset = pd.read_csv('drive/MyDrive/Colab Notebooks/disaster-tweets/train.csv')"
      ],
      "metadata": {
        "id": "A7EtWaOqXdC0"
      },
      "execution_count": 92,
      "outputs": []
    },
    {
      "cell_type": "code",
      "source": [
        "print(dataset.sample(frac = 1).head())"
      ],
      "metadata": {
        "colab": {
          "base_uri": "https://localhost:8080/"
        },
        "id": "CDzyNU3I-Bsx",
        "outputId": "7071cee1-de4c-43a4-edba-a496444f758d"
      },
      "execution_count": 86,
      "outputs": [
        {
          "output_type": "stream",
          "name": "stdout",
          "text": [
            "         id       keyword                    location  \\\n",
            "6945   9961       tsunami          in the Word of God   \n",
            "7299  10445  wild%20fires                         NaN   \n",
            "6815   9762       trapped  LITTLETON, CO, USA, TERRAN   \n",
            "2599   3729     destroyed              North Port, FL   \n",
            "1988   2860        damage         My mind is my world   \n",
            "\n",
            "                                                                                                                                                      text  \\\n",
            "6945  @helene_yancey GodsLove &amp; #thankU my sister Helene for RT of NEW VIDEO http://t.co/cybKsXHF7d The Coming Apocalyptic US Earthquake &amp; Tsunami   \n",
            "7299             Some great footage of STRONG work from San Bernardino County Fire who is also working the wild fires right now.... http://t.co/QCYQHvn2Ha   \n",
            "6815                                                       Photo: prettyboyshyflizzy: Lol she trapped them into that so beautifully http://t.co/FKXCsztezB   \n",
            "2599                                                                  @ryanoss123 No worries you'd have to be on every hitters most pitchers got destroyed   \n",
            "1988           And here I was complaining about Phoenix Mode in Fire Emblem. Turns out Ray Gigant will have a 'difficulty' option where you take 0 damage.   \n",
            "\n",
            "      target  \n",
            "6945       1  \n",
            "7299       1  \n",
            "6815       0  \n",
            "2599       0  \n",
            "1988       0  \n"
          ]
        }
      ]
    },
    {
      "cell_type": "markdown",
      "source": [
        "Here, we are going to identify keywords of tweets that are about actual disasters, and we are going to store them inside a list. We are going to use a classifier that identifies a tweet as being about a disaster (1) if the tweet's keyword is inside that list and not (0) if the keyword isn't."
      ],
      "metadata": {
        "id": "tYefGrnFtr3h"
      }
    },
    {
      "cell_type": "code",
      "source": [
        "disaster_subset = dataset.loc[dataset.target == 1]\n",
        "disaster_subset = disaster_subset.dropna()"
      ],
      "metadata": {
        "id": "GDI6b0RMoxCK"
      },
      "execution_count": 93,
      "outputs": []
    },
    {
      "cell_type": "code",
      "source": [
        "disaster_subset['keyword'] = disaster_subset['keyword'].apply(lambda x: re.sub(r'\\W+', ' ', x))\n",
        "disaster_subset['keyword'] = disaster_subset['keyword'].apply(lambda x: re.sub(r'\\d+', '', x))\n",
        "keyword_list = [x for x in disaster_subset.keyword if len(x) >= 1]"
      ],
      "metadata": {
        "id": "0chWO41Er3wE"
      },
      "execution_count": 94,
      "outputs": []
    },
    {
      "cell_type": "code",
      "source": [
        "unique_keywords = np.unique(keyword_list)"
      ],
      "metadata": {
        "id": "tp9rP3GjsV46"
      },
      "execution_count": 97,
      "outputs": []
    },
    {
      "cell_type": "code",
      "source": [
        "unique_keywords"
      ],
      "metadata": {
        "colab": {
          "base_uri": "https://localhost:8080/"
        },
        "id": "p3TVHVdmtnK_",
        "outputId": "1c8ee4db-aa97-4454-8bca-66a775045ebf"
      },
      "execution_count": 98,
      "outputs": [
        {
          "output_type": "execute_result",
          "data": {
            "text/plain": [
              "array(['ablaze', 'accident', 'airplane accident', 'ambulance',\n",
              "       'annihilated', 'annihilation', 'apocalypse', 'armageddon', 'army',\n",
              "       'arson', 'arsonist', 'attack', 'attacked', 'avalanche', 'battle',\n",
              "       'bioterror', 'bioterrorism', 'blaze', 'blazing', 'bleeding',\n",
              "       'blight', 'blizzard', 'blood', 'bloody', 'blown up', 'body bag',\n",
              "       'body bagging', 'body bags', 'bomb', 'bombed', 'bombing',\n",
              "       'bridge collapse', 'buildings burning', 'buildings on fire',\n",
              "       'burned', 'burning', 'burning buildings', 'bush fires',\n",
              "       'casualties', 'casualty', 'catastrophe', 'catastrophic',\n",
              "       'chemical emergency', 'cliff fall', 'collapse', 'collapsed',\n",
              "       'collide', 'collided', 'collision', 'crash', 'crashed', 'crush',\n",
              "       'crushed', 'curfew', 'cyclone', 'damage', 'danger', 'dead',\n",
              "       'death', 'deaths', 'debris', 'deluge', 'deluged', 'demolish',\n",
              "       'demolished', 'demolition', 'derail', 'derailed', 'derailment',\n",
              "       'desolate', 'desolation', 'destroy', 'destroyed', 'destruction',\n",
              "       'detonate', 'detonation', 'devastated', 'devastation', 'disaster',\n",
              "       'displaced', 'drought', 'drown', 'drowned', 'drowning',\n",
              "       'dust storm', 'earthquake', 'electrocute', 'electrocuted',\n",
              "       'emergency', 'emergency plan', 'emergency services', 'engulfed',\n",
              "       'epicentre', 'evacuate', 'evacuated', 'evacuation', 'explode',\n",
              "       'exploded', 'explosion', 'eyewitness', 'famine', 'fatal',\n",
              "       'fatalities', 'fatality', 'fear', 'fire', 'fire truck',\n",
              "       'first responders', 'flames', 'flattened', 'flood', 'flooding',\n",
              "       'floods', 'forest fire', 'forest fires', 'hail', 'hailstorm',\n",
              "       'harm', 'hazard', 'hazardous', 'heat wave', 'hellfire', 'hijack',\n",
              "       'hijacker', 'hijacking', 'hostage', 'hostages', 'hurricane',\n",
              "       'injured', 'injuries', 'injury', 'inundated', 'inundation',\n",
              "       'landslide', 'lava', 'lightning', 'loud bang', 'mass murder',\n",
              "       'mass murderer', 'massacre', 'mayhem', 'meltdown', 'military',\n",
              "       'mudslide', 'natural disaster', 'nuclear disaster',\n",
              "       'nuclear reactor', 'obliterate', 'obliterated', 'obliteration',\n",
              "       'oil spill', 'outbreak', 'pandemonium', 'panic', 'police',\n",
              "       'quarantine', 'quarantined', 'radiation emergency', 'rainstorm',\n",
              "       'razed', 'refugees', 'rescue', 'rescued', 'rescuers', 'riot',\n",
              "       'rioting', 'rubble', 'ruin', 'sandstorm', 'screamed', 'screaming',\n",
              "       'screams', 'seismic', 'sinkhole', 'sinking', 'siren', 'sirens',\n",
              "       'smoke', 'snowstorm', 'storm', 'stretcher', 'structural failure',\n",
              "       'suicide bomb', 'suicide bomber', 'suicide bombing', 'sunk',\n",
              "       'survive', 'survived', 'survivors', 'terrorism', 'terrorist',\n",
              "       'threat', 'thunder', 'thunderstorm', 'tornado', 'tragedy',\n",
              "       'trapped', 'trauma', 'traumatised', 'trouble', 'tsunami',\n",
              "       'twister', 'typhoon', 'upheaval', 'violent storm', 'volcano',\n",
              "       'war zone', 'weapon', 'weapons', 'whirlwind', 'wild fires',\n",
              "       'wildfire', 'windstorm', 'wounded', 'wounds', 'wreck', 'wreckage',\n",
              "       'wrecked'], dtype='<U19')"
            ]
          },
          "metadata": {},
          "execution_count": 98
        }
      ]
    },
    {
      "cell_type": "markdown",
      "source": [
        "## Predictions"
      ],
      "metadata": {
        "id": "INKwyclWGXjF"
      }
    },
    {
      "cell_type": "code",
      "source": [],
      "metadata": {
        "id": "JPjVZmdvmk5z"
      },
      "execution_count": 32,
      "outputs": []
    }
  ]
}