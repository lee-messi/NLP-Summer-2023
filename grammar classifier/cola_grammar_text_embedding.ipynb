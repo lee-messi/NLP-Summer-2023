{
  "nbformat": 4,
  "nbformat_minor": 0,
  "metadata": {
    "colab": {
      "provenance": [],
      "mount_file_id": "1vvx4jFmMdHbtwJiwI4YZYdvP4-IZZCz5",
      "authorship_tag": "ABX9TyNt8MfcLY2J9zQg1fiG4IM/",
      "include_colab_link": true
    },
    "kernelspec": {
      "name": "python3",
      "display_name": "Python 3"
    },
    "language_info": {
      "name": "python"
    },
    "accelerator": "TPU"
  },
  "cells": [
    {
      "cell_type": "markdown",
      "metadata": {
        "id": "view-in-github",
        "colab_type": "text"
      },
      "source": [
        "<a href=\"https://colab.research.google.com/github/lee-messi/machine-learning/blob/main/cola_grammar_text_embedding.ipynb\" target=\"_parent\"><img src=\"https://colab.research.google.com/assets/colab-badge.svg\" alt=\"Open In Colab\"/></a>"
      ]
    },
    {
      "cell_type": "code",
      "source": [
        "!pip install tensorflow --quiet\n",
        "!pip install tensorflow-hub --quiet\n",
        "!pip install tensorflow-text --quiet\n",
        "!pip install tensorflow-addons --quiet\n",
        "!pip install tensorflow-datasets --quiet"
      ],
      "metadata": {
        "colab": {
          "base_uri": "https://localhost:8080/"
        },
        "id": "u5lnTCkSPEbt",
        "outputId": "987b8455-ebe9-4137-f73f-e8740d713034"
      },
      "execution_count": null,
      "outputs": [
        {
          "output_type": "stream",
          "name": "stdout",
          "text": [
            "\u001b[2K     \u001b[90m━━━━━━━━━━━━━━━━━━━━━━━━━━━━━━━━━━━━━━━━\u001b[0m \u001b[32m6.0/6.0 MB\u001b[0m \u001b[31m47.1 MB/s\u001b[0m eta \u001b[36m0:00:00\u001b[0m\n",
            "\u001b[2K     \u001b[90m━━━━━━━━━━━━━━━━━━━━━━━━━━━━━━━━━━━━━━\u001b[0m \u001b[32m591.0/591.0 kB\u001b[0m \u001b[31m13.7 MB/s\u001b[0m eta \u001b[36m0:00:00\u001b[0m\n",
            "\u001b[?25h"
          ]
        }
      ]
    },
    {
      "cell_type": "code",
      "source": [
        "import os\n",
        "import numpy as np\n",
        "import pandas as pd\n",
        "import tensorflow as tf\n",
        "import tensorflow_hub as hub\n",
        "import tensorflow_text as text\n",
        "import tensorflow_addons as tfa\n",
        "import tensorflow_datasets as tfds\n",
        "\n",
        "tf.get_logger().setLevel('ERROR')\n",
        "os.environ[\"TFHUB_MODEL_LOAD_FORMAT\"]=\"UNCOMPRESSED\""
      ],
      "metadata": {
        "id": "T_5ey_StOQgd",
        "colab": {
          "base_uri": "https://localhost:8080/"
        },
        "outputId": "d15feac5-2d8a-4d01-95d2-a214bc447bcb"
      },
      "execution_count": null,
      "outputs": [
        {
          "output_type": "stream",
          "name": "stderr",
          "text": [
            "/usr/local/lib/python3.10/dist-packages/tensorflow_addons/utils/tfa_eol_msg.py:23: UserWarning: \n",
            "\n",
            "TensorFlow Addons (TFA) has ended development and introduction of new features.\n",
            "TFA has entered a minimal maintenance and release mode until a planned end of life in May 2024.\n",
            "Please modify downstream libraries to take dependencies from other repositories in our TensorFlow community (e.g. Keras, Keras-CV, and Keras-NLP). \n",
            "\n",
            "For more information see: https://github.com/tensorflow/addons/issues/2807 \n",
            "\n",
            "  warnings.warn(\n"
          ]
        }
      ]
    },
    {
      "cell_type": "markdown",
      "source": [
        "## Import CoLA (The Corpus of Linguistic Acceptability) Data"
      ],
      "metadata": {
        "id": "Da8AGPhK2yzG"
      }
    },
    {
      "cell_type": "markdown",
      "source": [
        "CoLA is a collection of sentences that has been annotated for acceptability. The sentences are coded/labeled 1 if the sentence is grammatically acceptable or correct, and they are coded 0 if the sentence is grammatically wrong. You can access the publicly available corpus using the link [here](https://nyu-mll.github.io/CoLA/). First, we are going to import the datasets. The datasets are provided in **.tsv** format which can be imported using the **read_csv()** function."
      ],
      "metadata": {
        "id": "8kpW_bAY25mn"
      }
    },
    {
      "cell_type": "code",
      "source": [
        "train = pd.read_csv('drive/MyDrive/Colab Notebooks/cola-grammar/in_domain_train.tsv',\n",
        "                    sep = '\\t', header = None)\n",
        "val = pd.read_csv('drive/MyDrive/Colab Notebooks/cola-grammar/in_domain_dev.tsv',\n",
        "                  sep = '\\t', header = None)\n",
        "test = pd.read_csv('drive/MyDrive/Colab Notebooks/cola-grammar/out_of_domain_dev.tsv',\n",
        "                   sep = '\\t', header = None)"
      ],
      "metadata": {
        "id": "A7EtWaOqXdC0"
      },
      "execution_count": null,
      "outputs": []
    },
    {
      "cell_type": "code",
      "source": [
        "train.columns = ['misc', 'labels', 'na', 'text']\n",
        "val.columns = ['misc', 'labels', 'na', 'text']\n",
        "test.columns = ['misc', 'labels', 'na', 'text']"
      ],
      "metadata": {
        "id": "A47VxiErc66F"
      },
      "execution_count": null,
      "outputs": []
    },
    {
      "cell_type": "code",
      "source": [
        "'{}{}{}'.format(train.shape, val.shape, test.shape)"
      ],
      "metadata": {
        "colab": {
          "base_uri": "https://localhost:8080/",
          "height": 37
        },
        "id": "hMbIOAoGZ_4j",
        "outputId": "a3eeae2d-b1a1-419e-f6e2-bb46b78783f7"
      },
      "execution_count": null,
      "outputs": [
        {
          "output_type": "execute_result",
          "data": {
            "text/plain": [
              "'(8551, 4)(527, 4)(516, 4)'"
            ],
            "application/vnd.google.colaboratory.intrinsic+json": {
              "type": "string"
            }
          },
          "metadata": {},
          "execution_count": 59
        }
      ]
    },
    {
      "cell_type": "code",
      "source": [
        "train = train.groupby('labels').sample(2000)"
      ],
      "metadata": {
        "id": "9JA_a_NKx46r"
      },
      "execution_count": null,
      "outputs": []
    },
    {
      "cell_type": "code",
      "source": [
        "def df_to_dataset(dataframe, shuffle = True, batch_size = 32):\n",
        "  df = dataframe.copy()\n",
        "  label = df.labels\n",
        "  df = df.text\n",
        "  ds = tf.data.Dataset.from_tensor_slices((df, label))\n",
        "  if shuffle == True:\n",
        "    ds = ds.shuffle(buffer_size = len(df))\n",
        "  ds = ds.batch(batch_size)\n",
        "  ds = ds.prefetch(tf.data.AUTOTUNE)\n",
        "  return(ds)"
      ],
      "metadata": {
        "id": "4QPgFiaa4TF5"
      },
      "execution_count": null,
      "outputs": []
    },
    {
      "cell_type": "code",
      "source": [
        "train_ds = df_to_dataset(train)\n",
        "val_ds = df_to_dataset(val)\n",
        "test_ds = df_to_dataset(test)"
      ],
      "metadata": {
        "id": "9H8Oyz1n5jA9"
      },
      "execution_count": null,
      "outputs": []
    },
    {
      "cell_type": "markdown",
      "source": [
        "## Classifier Model using Text Embedding"
      ],
      "metadata": {
        "id": "MTTBLbwuHxeN"
      }
    },
    {
      "cell_type": "code",
      "source": [
        "embedding = \"https://tfhub.dev/google/nnlm-en-dim50/2\"\n",
        "hub_layer = hub.KerasLayer(embedding, dtype = tf.string, trainable = True)"
      ],
      "metadata": {
        "id": "ZidMSsdSTUHW"
      },
      "execution_count": null,
      "outputs": []
    },
    {
      "cell_type": "code",
      "source": [
        "model = tf.keras.Sequential()\n",
        "model.add(hub_layer)\n",
        "model.add(tf.keras.layers.Dense(1, activation = 'sigmoid'))"
      ],
      "metadata": {
        "id": "V3cWK2U_U4Xq"
      },
      "execution_count": null,
      "outputs": []
    },
    {
      "cell_type": "code",
      "source": [
        "model.compile(optimizer = tf.keras.optimizers.Adam(),\n",
        "              loss = tf.keras.losses.BinaryCrossentropy(),\n",
        "              metrics = ['accuracy'])"
      ],
      "metadata": {
        "id": "E0-um0E2U-ku"
      },
      "execution_count": null,
      "outputs": []
    },
    {
      "cell_type": "code",
      "source": [
        "history = model.fit(train_ds,\n",
        "                    validation_data = val_ds,\n",
        "                    epochs = 10)"
      ],
      "metadata": {
        "colab": {
          "base_uri": "https://localhost:8080/"
        },
        "id": "_2AqB7LDVBMQ",
        "outputId": "245e3396-e810-4a7b-c01e-028b5349efd8"
      },
      "execution_count": null,
      "outputs": [
        {
          "output_type": "stream",
          "name": "stdout",
          "text": [
            "Epoch 1/10\n",
            "125/125 [==============================] - 91s 722ms/step - loss: 0.6781 - accuracy: 0.5700 - val_loss: 0.6932 - val_accuracy: 0.4934\n",
            "Epoch 2/10\n",
            "125/125 [==============================] - 90s 723ms/step - loss: 0.6226 - accuracy: 0.6833 - val_loss: 0.6789 - val_accuracy: 0.5617\n",
            "Epoch 3/10\n",
            "125/125 [==============================] - 91s 729ms/step - loss: 0.5740 - accuracy: 0.7408 - val_loss: 0.6778 - val_accuracy: 0.5769\n",
            "Epoch 4/10\n",
            "125/125 [==============================] - 92s 737ms/step - loss: 0.5244 - accuracy: 0.7680 - val_loss: 0.6875 - val_accuracy: 0.5882\n",
            "Epoch 5/10\n",
            "125/125 [==============================] - 90s 717ms/step - loss: 0.4751 - accuracy: 0.7972 - val_loss: 0.6996 - val_accuracy: 0.5977\n",
            "Epoch 6/10\n",
            "125/125 [==============================] - 89s 716ms/step - loss: 0.4284 - accuracy: 0.8217 - val_loss: 0.7276 - val_accuracy: 0.5750\n",
            "Epoch 7/10\n",
            "125/125 [==============================] - 88s 705ms/step - loss: 0.3862 - accuracy: 0.8365 - val_loss: 0.7643 - val_accuracy: 0.5825\n",
            "Epoch 8/10\n",
            "125/125 [==============================] - 89s 716ms/step - loss: 0.3501 - accuracy: 0.8610 - val_loss: 0.8019 - val_accuracy: 0.5844\n",
            "Epoch 9/10\n",
            "125/125 [==============================] - 89s 712ms/step - loss: 0.3186 - accuracy: 0.8740 - val_loss: 0.8234 - val_accuracy: 0.6015\n",
            "Epoch 10/10\n",
            "125/125 [==============================] - 89s 709ms/step - loss: 0.2925 - accuracy: 0.8805 - val_loss: 0.8634 - val_accuracy: 0.5863\n"
          ]
        }
      ]
    },
    {
      "cell_type": "markdown",
      "source": [
        "## Evaluate Model"
      ],
      "metadata": {
        "id": "mOr_A1eRIWys"
      }
    },
    {
      "cell_type": "code",
      "source": [
        "model.evaluate(test_ds)"
      ],
      "metadata": {
        "colab": {
          "base_uri": "https://localhost:8080/"
        },
        "id": "yiUftk-oIalO",
        "outputId": "3cc82c8b-a7c4-4a87-e98a-bd49a6ddff29"
      },
      "execution_count": null,
      "outputs": [
        {
          "output_type": "stream",
          "name": "stdout",
          "text": [
            "17/17 [==============================] - 3s 124ms/step - loss: 0.8590 - accuracy: 0.4981\n"
          ]
        },
        {
          "output_type": "execute_result",
          "data": {
            "text/plain": [
              "[0.8590083718299866, 0.49806201457977295]"
            ]
          },
          "metadata": {},
          "execution_count": 55
        }
      ]
    },
    {
      "cell_type": "markdown",
      "source": [
        "The model returned an accuracy of **63.95%**. The model ranks around 15th among the models that have been used to perform the identical task on [Kaggle](https://www.kaggle.com/competitions/cola-in-domain-open-evaluation/leaderboard) (although the leaderboard is quite outdated)."
      ],
      "metadata": {
        "id": "H_YLvZLbKyKB"
      }
    }
  ]
}